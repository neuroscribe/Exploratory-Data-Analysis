{
  "cells": [
    {
      "cell_type": "markdown",
      "id": "49bab08c",
      "metadata": {
        "id": "49bab08c"
      },
      "source": [
        "# Basic Libraries and Data Visualization in Python\n",
        "\n",
        "This notebook introduces three essential Python libraries used in data science:\n",
        "- **NumPy**: For numerical operations\n",
        "- **Pandas**: For data manipulation\n",
        "- **Matplotlib**: For data visualization\n",
        "\n",
        "We will also explore basic plotting techniques using **Matplotlib**, including:\n",
        "- Line Chart\n",
        "- Scatter Plot\n",
        "- Bar Plot\n",
        "- Pie Chart"
      ]
    },
    {
      "cell_type": "markdown",
      "id": "b6eade77",
      "metadata": {
        "id": "b6eade77"
      },
      "source": [
        "## NumPy: Numerical Python\n",
        "NumPy is used for efficient numerical computations."
      ]
    },
    {
      "cell_type": "code",
      "execution_count": null,
      "id": "a6640d01",
      "metadata": {
        "id": "a6640d01"
      },
      "outputs": [],
      "source": [
        "import numpy as np\n",
        "\n",
        "# Create an array\n",
        "arr = np.array([1, 2, 3, 4, 5])\n",
        "print(\"NumPy Array:\", arr)\n",
        "\n",
        "# Array operations\n",
        "print(\"Mean:\", np.mean(arr))\n",
        "print(\"Standard Deviation:\", np.std(arr))"
      ]
    },
    {
      "cell_type": "markdown",
      "id": "d2603603",
      "metadata": {
        "id": "d2603603"
      },
      "source": [
        "## Pandas: Data Analysis Library\n",
        "Pandas provides data structures like Series and DataFrames for handling tabular data."
      ]
    },
    {
      "cell_type": "code",
      "execution_count": null,
      "id": "b118ca42",
      "metadata": {
        "id": "b118ca42"
      },
      "outputs": [],
      "source": [
        "import pandas as pd\n",
        "\n",
        "# Create a simple DataFrame\n",
        "data = {'Name': ['Alice', 'Bob', 'Charlie'], 'Age': [25, 30, 35]}\n",
        "df = pd.DataFrame(data)\n",
        "print(df)\n",
        "\n",
        "# Basic operations\n",
        "print(\"Average Age:\", df['Age'].mean())"
      ]
    },
    {
      "cell_type": "markdown",
      "id": "9e1e8eed",
      "metadata": {
        "id": "9e1e8eed"
      },
      "source": [
        "## Matplotlib: Data Visualization\n",
        "Matplotlib is used to create static, interactive, and animated visualizations in Python."
      ]
    },
    {
      "cell_type": "code",
      "execution_count": null,
      "id": "094195e9",
      "metadata": {
        "id": "094195e9"
      },
      "outputs": [],
      "source": [
        "import matplotlib.pyplot as plt\n",
        "\n",
        "# Sample data for visualizations\n",
        "x = [1, 2, 3, 4, 5]\n",
        "y = [10, 12, 8, 14, 11]"
      ]
    },
    {
      "cell_type": "markdown",
      "id": "425e2a6f",
      "metadata": {
        "id": "425e2a6f"
      },
      "source": [
        "## Line Chart\n",
        "Useful to show trends over a range."
      ]
    },
    {
      "cell_type": "code",
      "execution_count": null,
      "id": "823a4110",
      "metadata": {
        "id": "823a4110"
      },
      "outputs": [],
      "source": [
        "plt.figure(figsize=(6,4))\n",
        "plt.plot(x, y, marker='o', color='blue', linestyle='--')\n",
        "plt.title('Line Chart Example')\n",
        "plt.xlabel('X-axis')\n",
        "plt.ylabel('Y-axis')\n",
        "plt.grid(True)\n",
        "plt.show()"
      ]
    },
    {
      "cell_type": "markdown",
      "id": "7fcb8d00",
      "metadata": {
        "id": "7fcb8d00"
      },
      "source": [
        "## Scatter Plot\n",
        "Used to show the relationship between two variables."
      ]
    },
    {
      "cell_type": "code",
      "execution_count": null,
      "id": "eee60374",
      "metadata": {
        "id": "eee60374"
      },
      "outputs": [],
      "source": [
        "plt.figure(figsize=(6,4))\n",
        "plt.scatter(x, y, color='green')\n",
        "plt.title('Scatter Plot Example')\n",
        "plt.xlabel('X-axis')\n",
        "plt.ylabel('Y-axis')\n",
        "plt.show()"
      ]
    },
    {
      "cell_type": "markdown",
      "id": "234e54c6",
      "metadata": {
        "id": "234e54c6"
      },
      "source": [
        "## Bar Plot\n",
        "Used to compare different categories."
      ]
    },
    {
      "cell_type": "code",
      "execution_count": null,
      "id": "0726ece9",
      "metadata": {
        "id": "0726ece9"
      },
      "outputs": [],
      "source": [
        "categories = ['A', 'B', 'C', 'D']\n",
        "values = [4, 7, 1, 8]\n",
        "\n",
        "plt.figure(figsize=(6,4))\n",
        "plt.bar(categories, values, color='orange')\n",
        "plt.title('Bar Plot Example')\n",
        "plt.xlabel('Categories')\n",
        "plt.ylabel('Values')\n",
        "plt.show()"
      ]
    },
    {
      "cell_type": "markdown",
      "id": "ac512ba3",
      "metadata": {
        "id": "ac512ba3"
      },
      "source": [
        "## Pie Chart\n",
        "Shows proportions of a whole."
      ]
    },
    {
      "cell_type": "code",
      "execution_count": null,
      "id": "5a9ee8ee",
      "metadata": {
        "id": "5a9ee8ee"
      },
      "outputs": [],
      "source": [
        "labels = ['Apples', 'Bananas', 'Cherries', 'Dates']\n",
        "sizes = [25, 35, 20, 20]\n",
        "\n",
        "plt.figure(figsize=(6,6))\n",
        "plt.pie(sizes, labels=labels, autopct='%1.1f%%', startangle=90)\n",
        "plt.title('Pie Chart Example')\n",
        "plt.axis('equal')\n",
        "plt.show()"
      ]
    }
  ],
  "metadata": {
    "colab": {
      "provenance": []
    }
  },
  "nbformat": 4,
  "nbformat_minor": 5
}