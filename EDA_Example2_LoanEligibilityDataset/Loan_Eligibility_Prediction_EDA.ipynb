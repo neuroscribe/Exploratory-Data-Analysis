{
  "cells": [
    {
      "cell_type": "markdown",
      "id": "40d3c781",
      "metadata": {
        "id": "40d3c781"
      },
      "source": [
        "## Loan Eligibility Prediction"
      ]
    },
    {
      "cell_type": "code",
      "execution_count": 1,
      "id": "014bd7b7",
      "metadata": {
        "id": "014bd7b7"
      },
      "outputs": [],
      "source": [
        "import pandas as pd\n",
        "import numpy as np\n",
        "import matplotlib.pyplot as plt\n",
        "import seaborn as sns\n",
        "sns.set()"
      ]
    },
    {
      "cell_type": "code",
      "execution_count": 2,
      "id": "768722a7",
      "metadata": {
        "id": "768722a7"
      },
      "outputs": [],
      "source": [
        "# Train dataset is used to train the model, it will have all the labels assigned to it.\n",
        "# Using this dataset, we will develop a model and test its accuracy\n",
        "\n",
        "dataset = pd.read_csv(\"/content/train.csv\")"
      ]
    },
    {
      "cell_type": "code",
      "execution_count": 3,
      "id": "849d641b",
      "metadata": {
        "colab": {
          "base_uri": "https://localhost:8080/",
          "height": 244
        },
        "id": "849d641b",
        "outputId": "1f5a5e92-b706-47e3-acd0-aca818d36b4d"
      },
      "outputs": [
        {
          "output_type": "execute_result",
          "data": {
            "text/plain": [
              "    Loan_ID Gender Married Dependents     Education Self_Employed  \\\n",
              "0  LP001002   Male      No          0      Graduate            No   \n",
              "1  LP001003   Male     Yes          1      Graduate            No   \n",
              "2  LP001005   Male     Yes          0      Graduate           Yes   \n",
              "3  LP001006   Male     Yes          0  Not Graduate            No   \n",
              "4  LP001008   Male      No          0      Graduate            No   \n",
              "\n",
              "   ApplicantIncome  CoapplicantIncome  LoanAmount  Loan_Amount_Term  \\\n",
              "0             5849                0.0         NaN             360.0   \n",
              "1             4583             1508.0       128.0             360.0   \n",
              "2             3000                0.0        66.0             360.0   \n",
              "3             2583             2358.0       120.0             360.0   \n",
              "4             6000                0.0       141.0             360.0   \n",
              "\n",
              "   Credit_History Property_Area Loan_Status  \n",
              "0             1.0         Urban           Y  \n",
              "1             1.0         Rural           N  \n",
              "2             1.0         Urban           Y  \n",
              "3             1.0         Urban           Y  \n",
              "4             1.0         Urban           Y  "
            ],
            "text/html": [
              "\n",
              "  <div id=\"df-1744a2c4-ebba-47f4-a3ec-9e52486b3b39\" class=\"colab-df-container\">\n",
              "    <div>\n",
              "<style scoped>\n",
              "    .dataframe tbody tr th:only-of-type {\n",
              "        vertical-align: middle;\n",
              "    }\n",
              "\n",
              "    .dataframe tbody tr th {\n",
              "        vertical-align: top;\n",
              "    }\n",
              "\n",
              "    .dataframe thead th {\n",
              "        text-align: right;\n",
              "    }\n",
              "</style>\n",
              "<table border=\"1\" class=\"dataframe\">\n",
              "  <thead>\n",
              "    <tr style=\"text-align: right;\">\n",
              "      <th></th>\n",
              "      <th>Loan_ID</th>\n",
              "      <th>Gender</th>\n",
              "      <th>Married</th>\n",
              "      <th>Dependents</th>\n",
              "      <th>Education</th>\n",
              "      <th>Self_Employed</th>\n",
              "      <th>ApplicantIncome</th>\n",
              "      <th>CoapplicantIncome</th>\n",
              "      <th>LoanAmount</th>\n",
              "      <th>Loan_Amount_Term</th>\n",
              "      <th>Credit_History</th>\n",
              "      <th>Property_Area</th>\n",
              "      <th>Loan_Status</th>\n",
              "    </tr>\n",
              "  </thead>\n",
              "  <tbody>\n",
              "    <tr>\n",
              "      <th>0</th>\n",
              "      <td>LP001002</td>\n",
              "      <td>Male</td>\n",
              "      <td>No</td>\n",
              "      <td>0</td>\n",
              "      <td>Graduate</td>\n",
              "      <td>No</td>\n",
              "      <td>5849</td>\n",
              "      <td>0.0</td>\n",
              "      <td>NaN</td>\n",
              "      <td>360.0</td>\n",
              "      <td>1.0</td>\n",
              "      <td>Urban</td>\n",
              "      <td>Y</td>\n",
              "    </tr>\n",
              "    <tr>\n",
              "      <th>1</th>\n",
              "      <td>LP001003</td>\n",
              "      <td>Male</td>\n",
              "      <td>Yes</td>\n",
              "      <td>1</td>\n",
              "      <td>Graduate</td>\n",
              "      <td>No</td>\n",
              "      <td>4583</td>\n",
              "      <td>1508.0</td>\n",
              "      <td>128.0</td>\n",
              "      <td>360.0</td>\n",
              "      <td>1.0</td>\n",
              "      <td>Rural</td>\n",
              "      <td>N</td>\n",
              "    </tr>\n",
              "    <tr>\n",
              "      <th>2</th>\n",
              "      <td>LP001005</td>\n",
              "      <td>Male</td>\n",
              "      <td>Yes</td>\n",
              "      <td>0</td>\n",
              "      <td>Graduate</td>\n",
              "      <td>Yes</td>\n",
              "      <td>3000</td>\n",
              "      <td>0.0</td>\n",
              "      <td>66.0</td>\n",
              "      <td>360.0</td>\n",
              "      <td>1.0</td>\n",
              "      <td>Urban</td>\n",
              "      <td>Y</td>\n",
              "    </tr>\n",
              "    <tr>\n",
              "      <th>3</th>\n",
              "      <td>LP001006</td>\n",
              "      <td>Male</td>\n",
              "      <td>Yes</td>\n",
              "      <td>0</td>\n",
              "      <td>Not Graduate</td>\n",
              "      <td>No</td>\n",
              "      <td>2583</td>\n",
              "      <td>2358.0</td>\n",
              "      <td>120.0</td>\n",
              "      <td>360.0</td>\n",
              "      <td>1.0</td>\n",
              "      <td>Urban</td>\n",
              "      <td>Y</td>\n",
              "    </tr>\n",
              "    <tr>\n",
              "      <th>4</th>\n",
              "      <td>LP001008</td>\n",
              "      <td>Male</td>\n",
              "      <td>No</td>\n",
              "      <td>0</td>\n",
              "      <td>Graduate</td>\n",
              "      <td>No</td>\n",
              "      <td>6000</td>\n",
              "      <td>0.0</td>\n",
              "      <td>141.0</td>\n",
              "      <td>360.0</td>\n",
              "      <td>1.0</td>\n",
              "      <td>Urban</td>\n",
              "      <td>Y</td>\n",
              "    </tr>\n",
              "  </tbody>\n",
              "</table>\n",
              "</div>\n",
              "    <div class=\"colab-df-buttons\">\n",
              "\n",
              "  <div class=\"colab-df-container\">\n",
              "    <button class=\"colab-df-convert\" onclick=\"convertToInteractive('df-1744a2c4-ebba-47f4-a3ec-9e52486b3b39')\"\n",
              "            title=\"Convert this dataframe to an interactive table.\"\n",
              "            style=\"display:none;\">\n",
              "\n",
              "  <svg xmlns=\"http://www.w3.org/2000/svg\" height=\"24px\" viewBox=\"0 -960 960 960\">\n",
              "    <path d=\"M120-120v-720h720v720H120Zm60-500h600v-160H180v160Zm220 220h160v-160H400v160Zm0 220h160v-160H400v160ZM180-400h160v-160H180v160Zm440 0h160v-160H620v160ZM180-180h160v-160H180v160Zm440 0h160v-160H620v160Z\"/>\n",
              "  </svg>\n",
              "    </button>\n",
              "\n",
              "  <style>\n",
              "    .colab-df-container {\n",
              "      display:flex;\n",
              "      gap: 12px;\n",
              "    }\n",
              "\n",
              "    .colab-df-convert {\n",
              "      background-color: #E8F0FE;\n",
              "      border: none;\n",
              "      border-radius: 50%;\n",
              "      cursor: pointer;\n",
              "      display: none;\n",
              "      fill: #1967D2;\n",
              "      height: 32px;\n",
              "      padding: 0 0 0 0;\n",
              "      width: 32px;\n",
              "    }\n",
              "\n",
              "    .colab-df-convert:hover {\n",
              "      background-color: #E2EBFA;\n",
              "      box-shadow: 0px 1px 2px rgba(60, 64, 67, 0.3), 0px 1px 3px 1px rgba(60, 64, 67, 0.15);\n",
              "      fill: #174EA6;\n",
              "    }\n",
              "\n",
              "    .colab-df-buttons div {\n",
              "      margin-bottom: 4px;\n",
              "    }\n",
              "\n",
              "    [theme=dark] .colab-df-convert {\n",
              "      background-color: #3B4455;\n",
              "      fill: #D2E3FC;\n",
              "    }\n",
              "\n",
              "    [theme=dark] .colab-df-convert:hover {\n",
              "      background-color: #434B5C;\n",
              "      box-shadow: 0px 1px 3px 1px rgba(0, 0, 0, 0.15);\n",
              "      filter: drop-shadow(0px 1px 2px rgba(0, 0, 0, 0.3));\n",
              "      fill: #FFFFFF;\n",
              "    }\n",
              "  </style>\n",
              "\n",
              "    <script>\n",
              "      const buttonEl =\n",
              "        document.querySelector('#df-1744a2c4-ebba-47f4-a3ec-9e52486b3b39 button.colab-df-convert');\n",
              "      buttonEl.style.display =\n",
              "        google.colab.kernel.accessAllowed ? 'block' : 'none';\n",
              "\n",
              "      async function convertToInteractive(key) {\n",
              "        const element = document.querySelector('#df-1744a2c4-ebba-47f4-a3ec-9e52486b3b39');\n",
              "        const dataTable =\n",
              "          await google.colab.kernel.invokeFunction('convertToInteractive',\n",
              "                                                    [key], {});\n",
              "        if (!dataTable) return;\n",
              "\n",
              "        const docLinkHtml = 'Like what you see? Visit the ' +\n",
              "          '<a target=\"_blank\" href=https://colab.research.google.com/notebooks/data_table.ipynb>data table notebook</a>'\n",
              "          + ' to learn more about interactive tables.';\n",
              "        element.innerHTML = '';\n",
              "        dataTable['output_type'] = 'display_data';\n",
              "        await google.colab.output.renderOutput(dataTable, element);\n",
              "        const docLink = document.createElement('div');\n",
              "        docLink.innerHTML = docLinkHtml;\n",
              "        element.appendChild(docLink);\n",
              "      }\n",
              "    </script>\n",
              "  </div>\n",
              "\n",
              "\n",
              "<div id=\"df-baee81ce-e8fc-4f44-8cef-9f2eaefb83fc\">\n",
              "  <button class=\"colab-df-quickchart\" onclick=\"quickchart('df-baee81ce-e8fc-4f44-8cef-9f2eaefb83fc')\"\n",
              "            title=\"Suggest charts\"\n",
              "            style=\"display:none;\">\n",
              "\n",
              "<svg xmlns=\"http://www.w3.org/2000/svg\" height=\"24px\"viewBox=\"0 0 24 24\"\n",
              "     width=\"24px\">\n",
              "    <g>\n",
              "        <path d=\"M19 3H5c-1.1 0-2 .9-2 2v14c0 1.1.9 2 2 2h14c1.1 0 2-.9 2-2V5c0-1.1-.9-2-2-2zM9 17H7v-7h2v7zm4 0h-2V7h2v10zm4 0h-2v-4h2v4z\"/>\n",
              "    </g>\n",
              "</svg>\n",
              "  </button>\n",
              "\n",
              "<style>\n",
              "  .colab-df-quickchart {\n",
              "      --bg-color: #E8F0FE;\n",
              "      --fill-color: #1967D2;\n",
              "      --hover-bg-color: #E2EBFA;\n",
              "      --hover-fill-color: #174EA6;\n",
              "      --disabled-fill-color: #AAA;\n",
              "      --disabled-bg-color: #DDD;\n",
              "  }\n",
              "\n",
              "  [theme=dark] .colab-df-quickchart {\n",
              "      --bg-color: #3B4455;\n",
              "      --fill-color: #D2E3FC;\n",
              "      --hover-bg-color: #434B5C;\n",
              "      --hover-fill-color: #FFFFFF;\n",
              "      --disabled-bg-color: #3B4455;\n",
              "      --disabled-fill-color: #666;\n",
              "  }\n",
              "\n",
              "  .colab-df-quickchart {\n",
              "    background-color: var(--bg-color);\n",
              "    border: none;\n",
              "    border-radius: 50%;\n",
              "    cursor: pointer;\n",
              "    display: none;\n",
              "    fill: var(--fill-color);\n",
              "    height: 32px;\n",
              "    padding: 0;\n",
              "    width: 32px;\n",
              "  }\n",
              "\n",
              "  .colab-df-quickchart:hover {\n",
              "    background-color: var(--hover-bg-color);\n",
              "    box-shadow: 0 1px 2px rgba(60, 64, 67, 0.3), 0 1px 3px 1px rgba(60, 64, 67, 0.15);\n",
              "    fill: var(--button-hover-fill-color);\n",
              "  }\n",
              "\n",
              "  .colab-df-quickchart-complete:disabled,\n",
              "  .colab-df-quickchart-complete:disabled:hover {\n",
              "    background-color: var(--disabled-bg-color);\n",
              "    fill: var(--disabled-fill-color);\n",
              "    box-shadow: none;\n",
              "  }\n",
              "\n",
              "  .colab-df-spinner {\n",
              "    border: 2px solid var(--fill-color);\n",
              "    border-color: transparent;\n",
              "    border-bottom-color: var(--fill-color);\n",
              "    animation:\n",
              "      spin 1s steps(1) infinite;\n",
              "  }\n",
              "\n",
              "  @keyframes spin {\n",
              "    0% {\n",
              "      border-color: transparent;\n",
              "      border-bottom-color: var(--fill-color);\n",
              "      border-left-color: var(--fill-color);\n",
              "    }\n",
              "    20% {\n",
              "      border-color: transparent;\n",
              "      border-left-color: var(--fill-color);\n",
              "      border-top-color: var(--fill-color);\n",
              "    }\n",
              "    30% {\n",
              "      border-color: transparent;\n",
              "      border-left-color: var(--fill-color);\n",
              "      border-top-color: var(--fill-color);\n",
              "      border-right-color: var(--fill-color);\n",
              "    }\n",
              "    40% {\n",
              "      border-color: transparent;\n",
              "      border-right-color: var(--fill-color);\n",
              "      border-top-color: var(--fill-color);\n",
              "    }\n",
              "    60% {\n",
              "      border-color: transparent;\n",
              "      border-right-color: var(--fill-color);\n",
              "    }\n",
              "    80% {\n",
              "      border-color: transparent;\n",
              "      border-right-color: var(--fill-color);\n",
              "      border-bottom-color: var(--fill-color);\n",
              "    }\n",
              "    90% {\n",
              "      border-color: transparent;\n",
              "      border-bottom-color: var(--fill-color);\n",
              "    }\n",
              "  }\n",
              "</style>\n",
              "\n",
              "  <script>\n",
              "    async function quickchart(key) {\n",
              "      const quickchartButtonEl =\n",
              "        document.querySelector('#' + key + ' button');\n",
              "      quickchartButtonEl.disabled = true;  // To prevent multiple clicks.\n",
              "      quickchartButtonEl.classList.add('colab-df-spinner');\n",
              "      try {\n",
              "        const charts = await google.colab.kernel.invokeFunction(\n",
              "            'suggestCharts', [key], {});\n",
              "      } catch (error) {\n",
              "        console.error('Error during call to suggestCharts:', error);\n",
              "      }\n",
              "      quickchartButtonEl.classList.remove('colab-df-spinner');\n",
              "      quickchartButtonEl.classList.add('colab-df-quickchart-complete');\n",
              "    }\n",
              "    (() => {\n",
              "      let quickchartButtonEl =\n",
              "        document.querySelector('#df-baee81ce-e8fc-4f44-8cef-9f2eaefb83fc button');\n",
              "      quickchartButtonEl.style.display =\n",
              "        google.colab.kernel.accessAllowed ? 'block' : 'none';\n",
              "    })();\n",
              "  </script>\n",
              "</div>\n",
              "\n",
              "    </div>\n",
              "  </div>\n"
            ],
            "application/vnd.google.colaboratory.intrinsic+json": {
              "type": "dataframe",
              "variable_name": "dataset",
              "summary": "{\n  \"name\": \"dataset\",\n  \"rows\": 614,\n  \"fields\": [\n    {\n      \"column\": \"Loan_ID\",\n      \"properties\": {\n        \"dtype\": \"string\",\n        \"num_unique_values\": 614,\n        \"samples\": [\n          \"LP002139\",\n          \"LP002223\",\n          \"LP001570\"\n        ],\n        \"semantic_type\": \"\",\n        \"description\": \"\"\n      }\n    },\n    {\n      \"column\": \"Gender\",\n      \"properties\": {\n        \"dtype\": \"category\",\n        \"num_unique_values\": 2,\n        \"samples\": [\n          \"Female\",\n          \"Male\"\n        ],\n        \"semantic_type\": \"\",\n        \"description\": \"\"\n      }\n    },\n    {\n      \"column\": \"Married\",\n      \"properties\": {\n        \"dtype\": \"category\",\n        \"num_unique_values\": 2,\n        \"samples\": [\n          \"Yes\",\n          \"No\"\n        ],\n        \"semantic_type\": \"\",\n        \"description\": \"\"\n      }\n    },\n    {\n      \"column\": \"Dependents\",\n      \"properties\": {\n        \"dtype\": \"category\",\n        \"num_unique_values\": 4,\n        \"samples\": [\n          \"1\",\n          \"3+\"\n        ],\n        \"semantic_type\": \"\",\n        \"description\": \"\"\n      }\n    },\n    {\n      \"column\": \"Education\",\n      \"properties\": {\n        \"dtype\": \"category\",\n        \"num_unique_values\": 2,\n        \"samples\": [\n          \"Not Graduate\",\n          \"Graduate\"\n        ],\n        \"semantic_type\": \"\",\n        \"description\": \"\"\n      }\n    },\n    {\n      \"column\": \"Self_Employed\",\n      \"properties\": {\n        \"dtype\": \"category\",\n        \"num_unique_values\": 2,\n        \"samples\": [\n          \"Yes\",\n          \"No\"\n        ],\n        \"semantic_type\": \"\",\n        \"description\": \"\"\n      }\n    },\n    {\n      \"column\": \"ApplicantIncome\",\n      \"properties\": {\n        \"dtype\": \"number\",\n        \"std\": 6109,\n        \"min\": 150,\n        \"max\": 81000,\n        \"num_unique_values\": 505,\n        \"samples\": [\n          8333,\n          4342\n        ],\n        \"semantic_type\": \"\",\n        \"description\": \"\"\n      }\n    },\n    {\n      \"column\": \"CoapplicantIncome\",\n      \"properties\": {\n        \"dtype\": \"number\",\n        \"std\": 2926.2483692241917,\n        \"min\": 0.0,\n        \"max\": 41667.0,\n        \"num_unique_values\": 287,\n        \"samples\": [\n          1840.0,\n          2042.0\n        ],\n        \"semantic_type\": \"\",\n        \"description\": \"\"\n      }\n    },\n    {\n      \"column\": \"LoanAmount\",\n      \"properties\": {\n        \"dtype\": \"number\",\n        \"std\": 85.58732523570545,\n        \"min\": 9.0,\n        \"max\": 700.0,\n        \"num_unique_values\": 203,\n        \"samples\": [\n          100.0,\n          70.0\n        ],\n        \"semantic_type\": \"\",\n        \"description\": \"\"\n      }\n    },\n    {\n      \"column\": \"Loan_Amount_Term\",\n      \"properties\": {\n        \"dtype\": \"number\",\n        \"std\": 65.12040985461256,\n        \"min\": 12.0,\n        \"max\": 480.0,\n        \"num_unique_values\": 10,\n        \"samples\": [\n          84.0,\n          120.0\n        ],\n        \"semantic_type\": \"\",\n        \"description\": \"\"\n      }\n    },\n    {\n      \"column\": \"Credit_History\",\n      \"properties\": {\n        \"dtype\": \"number\",\n        \"std\": 0.3648783192364049,\n        \"min\": 0.0,\n        \"max\": 1.0,\n        \"num_unique_values\": 2,\n        \"samples\": [\n          0.0,\n          1.0\n        ],\n        \"semantic_type\": \"\",\n        \"description\": \"\"\n      }\n    },\n    {\n      \"column\": \"Property_Area\",\n      \"properties\": {\n        \"dtype\": \"category\",\n        \"num_unique_values\": 3,\n        \"samples\": [\n          \"Urban\",\n          \"Rural\"\n        ],\n        \"semantic_type\": \"\",\n        \"description\": \"\"\n      }\n    },\n    {\n      \"column\": \"Loan_Status\",\n      \"properties\": {\n        \"dtype\": \"category\",\n        \"num_unique_values\": 2,\n        \"samples\": [\n          \"N\",\n          \"Y\"\n        ],\n        \"semantic_type\": \"\",\n        \"description\": \"\"\n      }\n    }\n  ]\n}"
            }
          },
          "metadata": {},
          "execution_count": 3
        }
      ],
      "source": [
        "# Explore the datasset\n",
        "\n",
        "dataset.head()"
      ]
    },
    {
      "cell_type": "code",
      "execution_count": 4,
      "id": "de7dcbae",
      "metadata": {
        "colab": {
          "base_uri": "https://localhost:8080/"
        },
        "id": "de7dcbae",
        "outputId": "f0442b20-6559-48df-b470-96660ccd707f"
      },
      "outputs": [
        {
          "output_type": "execute_result",
          "data": {
            "text/plain": [
              "(614, 13)"
            ]
          },
          "metadata": {},
          "execution_count": 4
        }
      ],
      "source": [
        "#Dimensions of dataset\n",
        "\n",
        "dataset.shape"
      ]
    },
    {
      "cell_type": "markdown",
      "id": "d63b7d45-0946-45f3-a289-9a0f56144bbd",
      "metadata": {
        "id": "d63b7d45-0946-45f3-a289-9a0f56144bbd"
      },
      "source": [
        "### **Dataset Description**\n",
        "The loan eligibility dataset contains information about loan applicants and whether their loan applications were approved or denied. The dataset consists of 13 columns and 614 rows, with each row representing a single loan application.The columns in the dataset include:\n",
        "\n",
        "1. **Loan_ID**: a unique identifier for each loan application\n",
        "2. **Gender**: the gender of the applicant (male or female)\n",
        "3. **Married**: whether the applicant is married or not (yes or no)\n",
        "4. **Dependents**: the number of dependents the applicant has (0, 1, 2, or 3+)\n",
        "5. **Education**: the education level of the applicant (graduate or not)\n",
        "6. **Self_Employed**: whether the applicant is self-employed or not (yes or no)\n",
        "7. **ApplicantIncome**: the income of the applicant\n",
        "8. **CoapplicantIncome**: the income of the co-applicant (if any)\n",
        "9. **LoanAmount**: the amount of the loan requested\n",
        "10. **Loan_Amount_Term**: the term of the loan in months\n",
        "11. **Credit_History**: a binary variable indicating whether the applicant has a credit history or not (1 = has credit history, 0 = no credit history)\n",
        "12. **Property_Area**: the area where the property associated with the loan is located (urban, suburban, or rural)\n",
        "13. **Loan_Status**: whether the loan application was approved or denied (Y = approved, N = denied)"
      ]
    },
    {
      "cell_type": "code",
      "execution_count": 5,
      "id": "c953de59",
      "metadata": {
        "colab": {
          "base_uri": "https://localhost:8080/"
        },
        "id": "c953de59",
        "outputId": "b7ca3d5d-6d98-4426-f293-37e0e97ae72e"
      },
      "outputs": [
        {
          "output_type": "stream",
          "name": "stdout",
          "text": [
            "<class 'pandas.core.frame.DataFrame'>\n",
            "RangeIndex: 614 entries, 0 to 613\n",
            "Data columns (total 13 columns):\n",
            " #   Column             Non-Null Count  Dtype  \n",
            "---  ------             --------------  -----  \n",
            " 0   Loan_ID            614 non-null    object \n",
            " 1   Gender             601 non-null    object \n",
            " 2   Married            611 non-null    object \n",
            " 3   Dependents         599 non-null    object \n",
            " 4   Education          614 non-null    object \n",
            " 5   Self_Employed      582 non-null    object \n",
            " 6   ApplicantIncome    614 non-null    int64  \n",
            " 7   CoapplicantIncome  614 non-null    float64\n",
            " 8   LoanAmount         592 non-null    float64\n",
            " 9   Loan_Amount_Term   600 non-null    float64\n",
            " 10  Credit_History     564 non-null    float64\n",
            " 11  Property_Area      614 non-null    object \n",
            " 12  Loan_Status        614 non-null    object \n",
            "dtypes: float64(4), int64(1), object(8)\n",
            "memory usage: 62.5+ KB\n"
          ]
        }
      ],
      "source": [
        "# Information about the dataframe\n",
        "\n",
        "dataset.info()"
      ]
    },
    {
      "cell_type": "code",
      "execution_count": 6,
      "id": "82ad5f84",
      "metadata": {
        "colab": {
          "base_uri": "https://localhost:8080/",
          "height": 300
        },
        "id": "82ad5f84",
        "outputId": "be2ceba4-78eb-4d59-a22a-5399f647340f"
      },
      "outputs": [
        {
          "output_type": "execute_result",
          "data": {
            "text/plain": [
              "       ApplicantIncome  CoapplicantIncome  LoanAmount  Loan_Amount_Term  \\\n",
              "count       614.000000         614.000000  592.000000         600.00000   \n",
              "mean       5403.459283        1621.245798  146.412162         342.00000   \n",
              "std        6109.041673        2926.248369   85.587325          65.12041   \n",
              "min         150.000000           0.000000    9.000000          12.00000   \n",
              "25%        2877.500000           0.000000  100.000000         360.00000   \n",
              "50%        3812.500000        1188.500000  128.000000         360.00000   \n",
              "75%        5795.000000        2297.250000  168.000000         360.00000   \n",
              "max       81000.000000       41667.000000  700.000000         480.00000   \n",
              "\n",
              "       Credit_History  \n",
              "count      564.000000  \n",
              "mean         0.842199  \n",
              "std          0.364878  \n",
              "min          0.000000  \n",
              "25%          1.000000  \n",
              "50%          1.000000  \n",
              "75%          1.000000  \n",
              "max          1.000000  "
            ],
            "text/html": [
              "\n",
              "  <div id=\"df-793c6a53-a1a2-47b8-a9aa-6230f1f2e3d3\" class=\"colab-df-container\">\n",
              "    <div>\n",
              "<style scoped>\n",
              "    .dataframe tbody tr th:only-of-type {\n",
              "        vertical-align: middle;\n",
              "    }\n",
              "\n",
              "    .dataframe tbody tr th {\n",
              "        vertical-align: top;\n",
              "    }\n",
              "\n",
              "    .dataframe thead th {\n",
              "        text-align: right;\n",
              "    }\n",
              "</style>\n",
              "<table border=\"1\" class=\"dataframe\">\n",
              "  <thead>\n",
              "    <tr style=\"text-align: right;\">\n",
              "      <th></th>\n",
              "      <th>ApplicantIncome</th>\n",
              "      <th>CoapplicantIncome</th>\n",
              "      <th>LoanAmount</th>\n",
              "      <th>Loan_Amount_Term</th>\n",
              "      <th>Credit_History</th>\n",
              "    </tr>\n",
              "  </thead>\n",
              "  <tbody>\n",
              "    <tr>\n",
              "      <th>count</th>\n",
              "      <td>614.000000</td>\n",
              "      <td>614.000000</td>\n",
              "      <td>592.000000</td>\n",
              "      <td>600.00000</td>\n",
              "      <td>564.000000</td>\n",
              "    </tr>\n",
              "    <tr>\n",
              "      <th>mean</th>\n",
              "      <td>5403.459283</td>\n",
              "      <td>1621.245798</td>\n",
              "      <td>146.412162</td>\n",
              "      <td>342.00000</td>\n",
              "      <td>0.842199</td>\n",
              "    </tr>\n",
              "    <tr>\n",
              "      <th>std</th>\n",
              "      <td>6109.041673</td>\n",
              "      <td>2926.248369</td>\n",
              "      <td>85.587325</td>\n",
              "      <td>65.12041</td>\n",
              "      <td>0.364878</td>\n",
              "    </tr>\n",
              "    <tr>\n",
              "      <th>min</th>\n",
              "      <td>150.000000</td>\n",
              "      <td>0.000000</td>\n",
              "      <td>9.000000</td>\n",
              "      <td>12.00000</td>\n",
              "      <td>0.000000</td>\n",
              "    </tr>\n",
              "    <tr>\n",
              "      <th>25%</th>\n",
              "      <td>2877.500000</td>\n",
              "      <td>0.000000</td>\n",
              "      <td>100.000000</td>\n",
              "      <td>360.00000</td>\n",
              "      <td>1.000000</td>\n",
              "    </tr>\n",
              "    <tr>\n",
              "      <th>50%</th>\n",
              "      <td>3812.500000</td>\n",
              "      <td>1188.500000</td>\n",
              "      <td>128.000000</td>\n",
              "      <td>360.00000</td>\n",
              "      <td>1.000000</td>\n",
              "    </tr>\n",
              "    <tr>\n",
              "      <th>75%</th>\n",
              "      <td>5795.000000</td>\n",
              "      <td>2297.250000</td>\n",
              "      <td>168.000000</td>\n",
              "      <td>360.00000</td>\n",
              "      <td>1.000000</td>\n",
              "    </tr>\n",
              "    <tr>\n",
              "      <th>max</th>\n",
              "      <td>81000.000000</td>\n",
              "      <td>41667.000000</td>\n",
              "      <td>700.000000</td>\n",
              "      <td>480.00000</td>\n",
              "      <td>1.000000</td>\n",
              "    </tr>\n",
              "  </tbody>\n",
              "</table>\n",
              "</div>\n",
              "    <div class=\"colab-df-buttons\">\n",
              "\n",
              "  <div class=\"colab-df-container\">\n",
              "    <button class=\"colab-df-convert\" onclick=\"convertToInteractive('df-793c6a53-a1a2-47b8-a9aa-6230f1f2e3d3')\"\n",
              "            title=\"Convert this dataframe to an interactive table.\"\n",
              "            style=\"display:none;\">\n",
              "\n",
              "  <svg xmlns=\"http://www.w3.org/2000/svg\" height=\"24px\" viewBox=\"0 -960 960 960\">\n",
              "    <path d=\"M120-120v-720h720v720H120Zm60-500h600v-160H180v160Zm220 220h160v-160H400v160Zm0 220h160v-160H400v160ZM180-400h160v-160H180v160Zm440 0h160v-160H620v160ZM180-180h160v-160H180v160Zm440 0h160v-160H620v160Z\"/>\n",
              "  </svg>\n",
              "    </button>\n",
              "\n",
              "  <style>\n",
              "    .colab-df-container {\n",
              "      display:flex;\n",
              "      gap: 12px;\n",
              "    }\n",
              "\n",
              "    .colab-df-convert {\n",
              "      background-color: #E8F0FE;\n",
              "      border: none;\n",
              "      border-radius: 50%;\n",
              "      cursor: pointer;\n",
              "      display: none;\n",
              "      fill: #1967D2;\n",
              "      height: 32px;\n",
              "      padding: 0 0 0 0;\n",
              "      width: 32px;\n",
              "    }\n",
              "\n",
              "    .colab-df-convert:hover {\n",
              "      background-color: #E2EBFA;\n",
              "      box-shadow: 0px 1px 2px rgba(60, 64, 67, 0.3), 0px 1px 3px 1px rgba(60, 64, 67, 0.15);\n",
              "      fill: #174EA6;\n",
              "    }\n",
              "\n",
              "    .colab-df-buttons div {\n",
              "      margin-bottom: 4px;\n",
              "    }\n",
              "\n",
              "    [theme=dark] .colab-df-convert {\n",
              "      background-color: #3B4455;\n",
              "      fill: #D2E3FC;\n",
              "    }\n",
              "\n",
              "    [theme=dark] .colab-df-convert:hover {\n",
              "      background-color: #434B5C;\n",
              "      box-shadow: 0px 1px 3px 1px rgba(0, 0, 0, 0.15);\n",
              "      filter: drop-shadow(0px 1px 2px rgba(0, 0, 0, 0.3));\n",
              "      fill: #FFFFFF;\n",
              "    }\n",
              "  </style>\n",
              "\n",
              "    <script>\n",
              "      const buttonEl =\n",
              "        document.querySelector('#df-793c6a53-a1a2-47b8-a9aa-6230f1f2e3d3 button.colab-df-convert');\n",
              "      buttonEl.style.display =\n",
              "        google.colab.kernel.accessAllowed ? 'block' : 'none';\n",
              "\n",
              "      async function convertToInteractive(key) {\n",
              "        const element = document.querySelector('#df-793c6a53-a1a2-47b8-a9aa-6230f1f2e3d3');\n",
              "        const dataTable =\n",
              "          await google.colab.kernel.invokeFunction('convertToInteractive',\n",
              "                                                    [key], {});\n",
              "        if (!dataTable) return;\n",
              "\n",
              "        const docLinkHtml = 'Like what you see? Visit the ' +\n",
              "          '<a target=\"_blank\" href=https://colab.research.google.com/notebooks/data_table.ipynb>data table notebook</a>'\n",
              "          + ' to learn more about interactive tables.';\n",
              "        element.innerHTML = '';\n",
              "        dataTable['output_type'] = 'display_data';\n",
              "        await google.colab.output.renderOutput(dataTable, element);\n",
              "        const docLink = document.createElement('div');\n",
              "        docLink.innerHTML = docLinkHtml;\n",
              "        element.appendChild(docLink);\n",
              "      }\n",
              "    </script>\n",
              "  </div>\n",
              "\n",
              "\n",
              "<div id=\"df-4f1e4d05-42fa-45d6-ac6c-a7c78f01d2c0\">\n",
              "  <button class=\"colab-df-quickchart\" onclick=\"quickchart('df-4f1e4d05-42fa-45d6-ac6c-a7c78f01d2c0')\"\n",
              "            title=\"Suggest charts\"\n",
              "            style=\"display:none;\">\n",
              "\n",
              "<svg xmlns=\"http://www.w3.org/2000/svg\" height=\"24px\"viewBox=\"0 0 24 24\"\n",
              "     width=\"24px\">\n",
              "    <g>\n",
              "        <path d=\"M19 3H5c-1.1 0-2 .9-2 2v14c0 1.1.9 2 2 2h14c1.1 0 2-.9 2-2V5c0-1.1-.9-2-2-2zM9 17H7v-7h2v7zm4 0h-2V7h2v10zm4 0h-2v-4h2v4z\"/>\n",
              "    </g>\n",
              "</svg>\n",
              "  </button>\n",
              "\n",
              "<style>\n",
              "  .colab-df-quickchart {\n",
              "      --bg-color: #E8F0FE;\n",
              "      --fill-color: #1967D2;\n",
              "      --hover-bg-color: #E2EBFA;\n",
              "      --hover-fill-color: #174EA6;\n",
              "      --disabled-fill-color: #AAA;\n",
              "      --disabled-bg-color: #DDD;\n",
              "  }\n",
              "\n",
              "  [theme=dark] .colab-df-quickchart {\n",
              "      --bg-color: #3B4455;\n",
              "      --fill-color: #D2E3FC;\n",
              "      --hover-bg-color: #434B5C;\n",
              "      --hover-fill-color: #FFFFFF;\n",
              "      --disabled-bg-color: #3B4455;\n",
              "      --disabled-fill-color: #666;\n",
              "  }\n",
              "\n",
              "  .colab-df-quickchart {\n",
              "    background-color: var(--bg-color);\n",
              "    border: none;\n",
              "    border-radius: 50%;\n",
              "    cursor: pointer;\n",
              "    display: none;\n",
              "    fill: var(--fill-color);\n",
              "    height: 32px;\n",
              "    padding: 0;\n",
              "    width: 32px;\n",
              "  }\n",
              "\n",
              "  .colab-df-quickchart:hover {\n",
              "    background-color: var(--hover-bg-color);\n",
              "    box-shadow: 0 1px 2px rgba(60, 64, 67, 0.3), 0 1px 3px 1px rgba(60, 64, 67, 0.15);\n",
              "    fill: var(--button-hover-fill-color);\n",
              "  }\n",
              "\n",
              "  .colab-df-quickchart-complete:disabled,\n",
              "  .colab-df-quickchart-complete:disabled:hover {\n",
              "    background-color: var(--disabled-bg-color);\n",
              "    fill: var(--disabled-fill-color);\n",
              "    box-shadow: none;\n",
              "  }\n",
              "\n",
              "  .colab-df-spinner {\n",
              "    border: 2px solid var(--fill-color);\n",
              "    border-color: transparent;\n",
              "    border-bottom-color: var(--fill-color);\n",
              "    animation:\n",
              "      spin 1s steps(1) infinite;\n",
              "  }\n",
              "\n",
              "  @keyframes spin {\n",
              "    0% {\n",
              "      border-color: transparent;\n",
              "      border-bottom-color: var(--fill-color);\n",
              "      border-left-color: var(--fill-color);\n",
              "    }\n",
              "    20% {\n",
              "      border-color: transparent;\n",
              "      border-left-color: var(--fill-color);\n",
              "      border-top-color: var(--fill-color);\n",
              "    }\n",
              "    30% {\n",
              "      border-color: transparent;\n",
              "      border-left-color: var(--fill-color);\n",
              "      border-top-color: var(--fill-color);\n",
              "      border-right-color: var(--fill-color);\n",
              "    }\n",
              "    40% {\n",
              "      border-color: transparent;\n",
              "      border-right-color: var(--fill-color);\n",
              "      border-top-color: var(--fill-color);\n",
              "    }\n",
              "    60% {\n",
              "      border-color: transparent;\n",
              "      border-right-color: var(--fill-color);\n",
              "    }\n",
              "    80% {\n",
              "      border-color: transparent;\n",
              "      border-right-color: var(--fill-color);\n",
              "      border-bottom-color: var(--fill-color);\n",
              "    }\n",
              "    90% {\n",
              "      border-color: transparent;\n",
              "      border-bottom-color: var(--fill-color);\n",
              "    }\n",
              "  }\n",
              "</style>\n",
              "\n",
              "  <script>\n",
              "    async function quickchart(key) {\n",
              "      const quickchartButtonEl =\n",
              "        document.querySelector('#' + key + ' button');\n",
              "      quickchartButtonEl.disabled = true;  // To prevent multiple clicks.\n",
              "      quickchartButtonEl.classList.add('colab-df-spinner');\n",
              "      try {\n",
              "        const charts = await google.colab.kernel.invokeFunction(\n",
              "            'suggestCharts', [key], {});\n",
              "      } catch (error) {\n",
              "        console.error('Error during call to suggestCharts:', error);\n",
              "      }\n",
              "      quickchartButtonEl.classList.remove('colab-df-spinner');\n",
              "      quickchartButtonEl.classList.add('colab-df-quickchart-complete');\n",
              "    }\n",
              "    (() => {\n",
              "      let quickchartButtonEl =\n",
              "        document.querySelector('#df-4f1e4d05-42fa-45d6-ac6c-a7c78f01d2c0 button');\n",
              "      quickchartButtonEl.style.display =\n",
              "        google.colab.kernel.accessAllowed ? 'block' : 'none';\n",
              "    })();\n",
              "  </script>\n",
              "</div>\n",
              "\n",
              "    </div>\n",
              "  </div>\n"
            ],
            "application/vnd.google.colaboratory.intrinsic+json": {
              "type": "dataframe",
              "summary": "{\n  \"name\": \"dataset\",\n  \"rows\": 8,\n  \"fields\": [\n    {\n      \"column\": \"ApplicantIncome\",\n      \"properties\": {\n        \"dtype\": \"number\",\n        \"std\": 27480.19432327756,\n        \"min\": 150.0,\n        \"max\": 81000.0,\n        \"num_unique_values\": 8,\n        \"samples\": [\n          5403.459283387622,\n          3812.5,\n          614.0\n        ],\n        \"semantic_type\": \"\",\n        \"description\": \"\"\n      }\n    },\n    {\n      \"column\": \"CoapplicantIncome\",\n      \"properties\": {\n        \"dtype\": \"number\",\n        \"std\": 14332.564053846478,\n        \"min\": 0.0,\n        \"max\": 41667.0,\n        \"num_unique_values\": 7,\n        \"samples\": [\n          614.0,\n          1621.2457980271008,\n          2297.25\n        ],\n        \"semantic_type\": \"\",\n        \"description\": \"\"\n      }\n    },\n    {\n      \"column\": \"LoanAmount\",\n      \"properties\": {\n        \"dtype\": \"number\",\n        \"std\": 256.0091610169859,\n        \"min\": 9.0,\n        \"max\": 700.0,\n        \"num_unique_values\": 8,\n        \"samples\": [\n          146.41216216216216,\n          128.0,\n          592.0\n        ],\n        \"semantic_type\": \"\",\n        \"description\": \"\"\n      }\n    },\n    {\n      \"column\": \"Loan_Amount_Term\",\n      \"properties\": {\n        \"dtype\": \"number\",\n        \"std\": 196.05608042946525,\n        \"min\": 12.0,\n        \"max\": 600.0,\n        \"num_unique_values\": 6,\n        \"samples\": [\n          600.0,\n          342.0,\n          480.0\n        ],\n        \"semantic_type\": \"\",\n        \"description\": \"\"\n      }\n    },\n    {\n      \"column\": \"Credit_History\",\n      \"properties\": {\n        \"dtype\": \"number\",\n        \"std\": 199.14146277938596,\n        \"min\": 0.0,\n        \"max\": 564.0,\n        \"num_unique_values\": 5,\n        \"samples\": [\n          0.8421985815602837,\n          1.0,\n          0.3648783192364049\n        ],\n        \"semantic_type\": \"\",\n        \"description\": \"\"\n      }\n    }\n  ]\n}"
            }
          },
          "metadata": {},
          "execution_count": 6
        }
      ],
      "source": [
        "# Summary stats of the dataframe\n",
        "\n",
        "dataset.describe()"
      ]
    },
    {
      "cell_type": "code",
      "execution_count": 7,
      "id": "7b89c57e",
      "metadata": {
        "colab": {
          "base_uri": "https://localhost:8080/",
          "height": 175
        },
        "id": "7b89c57e",
        "outputId": "0b9575df-be23-4e14-dfe6-eada511bdfee"
      },
      "outputs": [
        {
          "output_type": "execute_result",
          "data": {
            "text/plain": [
              "Loan_Status       N    Y  All\n",
              "Credit_History               \n",
              "0.0              82    7   89\n",
              "1.0              97  378  475\n",
              "All             179  385  564"
            ],
            "text/html": [
              "\n",
              "  <div id=\"df-c152eed9-6c07-4d45-ab9d-acc01d089d94\" class=\"colab-df-container\">\n",
              "    <div>\n",
              "<style scoped>\n",
              "    .dataframe tbody tr th:only-of-type {\n",
              "        vertical-align: middle;\n",
              "    }\n",
              "\n",
              "    .dataframe tbody tr th {\n",
              "        vertical-align: top;\n",
              "    }\n",
              "\n",
              "    .dataframe thead th {\n",
              "        text-align: right;\n",
              "    }\n",
              "</style>\n",
              "<table border=\"1\" class=\"dataframe\">\n",
              "  <thead>\n",
              "    <tr style=\"text-align: right;\">\n",
              "      <th>Loan_Status</th>\n",
              "      <th>N</th>\n",
              "      <th>Y</th>\n",
              "      <th>All</th>\n",
              "    </tr>\n",
              "    <tr>\n",
              "      <th>Credit_History</th>\n",
              "      <th></th>\n",
              "      <th></th>\n",
              "      <th></th>\n",
              "    </tr>\n",
              "  </thead>\n",
              "  <tbody>\n",
              "    <tr>\n",
              "      <th>0.0</th>\n",
              "      <td>82</td>\n",
              "      <td>7</td>\n",
              "      <td>89</td>\n",
              "    </tr>\n",
              "    <tr>\n",
              "      <th>1.0</th>\n",
              "      <td>97</td>\n",
              "      <td>378</td>\n",
              "      <td>475</td>\n",
              "    </tr>\n",
              "    <tr>\n",
              "      <th>All</th>\n",
              "      <td>179</td>\n",
              "      <td>385</td>\n",
              "      <td>564</td>\n",
              "    </tr>\n",
              "  </tbody>\n",
              "</table>\n",
              "</div>\n",
              "    <div class=\"colab-df-buttons\">\n",
              "\n",
              "  <div class=\"colab-df-container\">\n",
              "    <button class=\"colab-df-convert\" onclick=\"convertToInteractive('df-c152eed9-6c07-4d45-ab9d-acc01d089d94')\"\n",
              "            title=\"Convert this dataframe to an interactive table.\"\n",
              "            style=\"display:none;\">\n",
              "\n",
              "  <svg xmlns=\"http://www.w3.org/2000/svg\" height=\"24px\" viewBox=\"0 -960 960 960\">\n",
              "    <path d=\"M120-120v-720h720v720H120Zm60-500h600v-160H180v160Zm220 220h160v-160H400v160Zm0 220h160v-160H400v160ZM180-400h160v-160H180v160Zm440 0h160v-160H620v160ZM180-180h160v-160H180v160Zm440 0h160v-160H620v160Z\"/>\n",
              "  </svg>\n",
              "    </button>\n",
              "\n",
              "  <style>\n",
              "    .colab-df-container {\n",
              "      display:flex;\n",
              "      gap: 12px;\n",
              "    }\n",
              "\n",
              "    .colab-df-convert {\n",
              "      background-color: #E8F0FE;\n",
              "      border: none;\n",
              "      border-radius: 50%;\n",
              "      cursor: pointer;\n",
              "      display: none;\n",
              "      fill: #1967D2;\n",
              "      height: 32px;\n",
              "      padding: 0 0 0 0;\n",
              "      width: 32px;\n",
              "    }\n",
              "\n",
              "    .colab-df-convert:hover {\n",
              "      background-color: #E2EBFA;\n",
              "      box-shadow: 0px 1px 2px rgba(60, 64, 67, 0.3), 0px 1px 3px 1px rgba(60, 64, 67, 0.15);\n",
              "      fill: #174EA6;\n",
              "    }\n",
              "\n",
              "    .colab-df-buttons div {\n",
              "      margin-bottom: 4px;\n",
              "    }\n",
              "\n",
              "    [theme=dark] .colab-df-convert {\n",
              "      background-color: #3B4455;\n",
              "      fill: #D2E3FC;\n",
              "    }\n",
              "\n",
              "    [theme=dark] .colab-df-convert:hover {\n",
              "      background-color: #434B5C;\n",
              "      box-shadow: 0px 1px 3px 1px rgba(0, 0, 0, 0.15);\n",
              "      filter: drop-shadow(0px 1px 2px rgba(0, 0, 0, 0.3));\n",
              "      fill: #FFFFFF;\n",
              "    }\n",
              "  </style>\n",
              "\n",
              "    <script>\n",
              "      const buttonEl =\n",
              "        document.querySelector('#df-c152eed9-6c07-4d45-ab9d-acc01d089d94 button.colab-df-convert');\n",
              "      buttonEl.style.display =\n",
              "        google.colab.kernel.accessAllowed ? 'block' : 'none';\n",
              "\n",
              "      async function convertToInteractive(key) {\n",
              "        const element = document.querySelector('#df-c152eed9-6c07-4d45-ab9d-acc01d089d94');\n",
              "        const dataTable =\n",
              "          await google.colab.kernel.invokeFunction('convertToInteractive',\n",
              "                                                    [key], {});\n",
              "        if (!dataTable) return;\n",
              "\n",
              "        const docLinkHtml = 'Like what you see? Visit the ' +\n",
              "          '<a target=\"_blank\" href=https://colab.research.google.com/notebooks/data_table.ipynb>data table notebook</a>'\n",
              "          + ' to learn more about interactive tables.';\n",
              "        element.innerHTML = '';\n",
              "        dataTable['output_type'] = 'display_data';\n",
              "        await google.colab.output.renderOutput(dataTable, element);\n",
              "        const docLink = document.createElement('div');\n",
              "        docLink.innerHTML = docLinkHtml;\n",
              "        element.appendChild(docLink);\n",
              "      }\n",
              "    </script>\n",
              "  </div>\n",
              "\n",
              "\n",
              "<div id=\"df-3a5c02bc-7649-405d-b1b9-11a5721c15d6\">\n",
              "  <button class=\"colab-df-quickchart\" onclick=\"quickchart('df-3a5c02bc-7649-405d-b1b9-11a5721c15d6')\"\n",
              "            title=\"Suggest charts\"\n",
              "            style=\"display:none;\">\n",
              "\n",
              "<svg xmlns=\"http://www.w3.org/2000/svg\" height=\"24px\"viewBox=\"0 0 24 24\"\n",
              "     width=\"24px\">\n",
              "    <g>\n",
              "        <path d=\"M19 3H5c-1.1 0-2 .9-2 2v14c0 1.1.9 2 2 2h14c1.1 0 2-.9 2-2V5c0-1.1-.9-2-2-2zM9 17H7v-7h2v7zm4 0h-2V7h2v10zm4 0h-2v-4h2v4z\"/>\n",
              "    </g>\n",
              "</svg>\n",
              "  </button>\n",
              "\n",
              "<style>\n",
              "  .colab-df-quickchart {\n",
              "      --bg-color: #E8F0FE;\n",
              "      --fill-color: #1967D2;\n",
              "      --hover-bg-color: #E2EBFA;\n",
              "      --hover-fill-color: #174EA6;\n",
              "      --disabled-fill-color: #AAA;\n",
              "      --disabled-bg-color: #DDD;\n",
              "  }\n",
              "\n",
              "  [theme=dark] .colab-df-quickchart {\n",
              "      --bg-color: #3B4455;\n",
              "      --fill-color: #D2E3FC;\n",
              "      --hover-bg-color: #434B5C;\n",
              "      --hover-fill-color: #FFFFFF;\n",
              "      --disabled-bg-color: #3B4455;\n",
              "      --disabled-fill-color: #666;\n",
              "  }\n",
              "\n",
              "  .colab-df-quickchart {\n",
              "    background-color: var(--bg-color);\n",
              "    border: none;\n",
              "    border-radius: 50%;\n",
              "    cursor: pointer;\n",
              "    display: none;\n",
              "    fill: var(--fill-color);\n",
              "    height: 32px;\n",
              "    padding: 0;\n",
              "    width: 32px;\n",
              "  }\n",
              "\n",
              "  .colab-df-quickchart:hover {\n",
              "    background-color: var(--hover-bg-color);\n",
              "    box-shadow: 0 1px 2px rgba(60, 64, 67, 0.3), 0 1px 3px 1px rgba(60, 64, 67, 0.15);\n",
              "    fill: var(--button-hover-fill-color);\n",
              "  }\n",
              "\n",
              "  .colab-df-quickchart-complete:disabled,\n",
              "  .colab-df-quickchart-complete:disabled:hover {\n",
              "    background-color: var(--disabled-bg-color);\n",
              "    fill: var(--disabled-fill-color);\n",
              "    box-shadow: none;\n",
              "  }\n",
              "\n",
              "  .colab-df-spinner {\n",
              "    border: 2px solid var(--fill-color);\n",
              "    border-color: transparent;\n",
              "    border-bottom-color: var(--fill-color);\n",
              "    animation:\n",
              "      spin 1s steps(1) infinite;\n",
              "  }\n",
              "\n",
              "  @keyframes spin {\n",
              "    0% {\n",
              "      border-color: transparent;\n",
              "      border-bottom-color: var(--fill-color);\n",
              "      border-left-color: var(--fill-color);\n",
              "    }\n",
              "    20% {\n",
              "      border-color: transparent;\n",
              "      border-left-color: var(--fill-color);\n",
              "      border-top-color: var(--fill-color);\n",
              "    }\n",
              "    30% {\n",
              "      border-color: transparent;\n",
              "      border-left-color: var(--fill-color);\n",
              "      border-top-color: var(--fill-color);\n",
              "      border-right-color: var(--fill-color);\n",
              "    }\n",
              "    40% {\n",
              "      border-color: transparent;\n",
              "      border-right-color: var(--fill-color);\n",
              "      border-top-color: var(--fill-color);\n",
              "    }\n",
              "    60% {\n",
              "      border-color: transparent;\n",
              "      border-right-color: var(--fill-color);\n",
              "    }\n",
              "    80% {\n",
              "      border-color: transparent;\n",
              "      border-right-color: var(--fill-color);\n",
              "      border-bottom-color: var(--fill-color);\n",
              "    }\n",
              "    90% {\n",
              "      border-color: transparent;\n",
              "      border-bottom-color: var(--fill-color);\n",
              "    }\n",
              "  }\n",
              "</style>\n",
              "\n",
              "  <script>\n",
              "    async function quickchart(key) {\n",
              "      const quickchartButtonEl =\n",
              "        document.querySelector('#' + key + ' button');\n",
              "      quickchartButtonEl.disabled = true;  // To prevent multiple clicks.\n",
              "      quickchartButtonEl.classList.add('colab-df-spinner');\n",
              "      try {\n",
              "        const charts = await google.colab.kernel.invokeFunction(\n",
              "            'suggestCharts', [key], {});\n",
              "      } catch (error) {\n",
              "        console.error('Error during call to suggestCharts:', error);\n",
              "      }\n",
              "      quickchartButtonEl.classList.remove('colab-df-spinner');\n",
              "      quickchartButtonEl.classList.add('colab-df-quickchart-complete');\n",
              "    }\n",
              "    (() => {\n",
              "      let quickchartButtonEl =\n",
              "        document.querySelector('#df-3a5c02bc-7649-405d-b1b9-11a5721c15d6 button');\n",
              "      quickchartButtonEl.style.display =\n",
              "        google.colab.kernel.accessAllowed ? 'block' : 'none';\n",
              "    })();\n",
              "  </script>\n",
              "</div>\n",
              "\n",
              "    </div>\n",
              "  </div>\n"
            ],
            "application/vnd.google.colaboratory.intrinsic+json": {
              "type": "dataframe",
              "summary": "{\n  \"name\": \"pd\",\n  \"rows\": 3,\n  \"fields\": [\n    {\n      \"column\": \"Credit_History\",\n      \"properties\": {\n        \"dtype\": \"string\",\n        \"num_unique_values\": 3,\n        \"samples\": [\n          0.0,\n          1.0,\n          \"All\"\n        ],\n        \"semantic_type\": \"\",\n        \"description\": \"\"\n      }\n    },\n    {\n      \"column\": \"N\",\n      \"properties\": {\n        \"dtype\": \"number\",\n        \"std\": 52,\n        \"min\": 82,\n        \"max\": 179,\n        \"num_unique_values\": 3,\n        \"samples\": [\n          82,\n          97,\n          179\n        ],\n        \"semantic_type\": \"\",\n        \"description\": \"\"\n      }\n    },\n    {\n      \"column\": \"Y\",\n      \"properties\": {\n        \"dtype\": \"number\",\n        \"std\": 216,\n        \"min\": 7,\n        \"max\": 385,\n        \"num_unique_values\": 3,\n        \"samples\": [\n          7,\n          378,\n          385\n        ],\n        \"semantic_type\": \"\",\n        \"description\": \"\"\n      }\n    },\n    {\n      \"column\": \"All\",\n      \"properties\": {\n        \"dtype\": \"number\",\n        \"std\": 252,\n        \"min\": 89,\n        \"max\": 564,\n        \"num_unique_values\": 3,\n        \"samples\": [\n          89,\n          475,\n          564\n        ],\n        \"semantic_type\": \"\",\n        \"description\": \"\"\n      }\n    }\n  ]\n}"
            }
          },
          "metadata": {},
          "execution_count": 7
        }
      ],
      "source": [
        "# Crosstab is the tabulation of two categorical variables\n",
        "# How credit histoy affects the loan status\n",
        "\n",
        "pd.crosstab(dataset['Credit_History'], dataset['Loan_Status'], margins=True)"
      ]
    },
    {
      "cell_type": "markdown",
      "id": "858e6d1c-9ffa-47be-a1c3-5770eec6d62b",
      "metadata": {
        "id": "858e6d1c-9ffa-47be-a1c3-5770eec6d62b"
      },
      "source": [
        "#### **Analyse Loan_status**"
      ]
    },
    {
      "cell_type": "code",
      "execution_count": 8,
      "id": "615e55cf-31eb-43b4-8108-be0569d05018",
      "metadata": {
        "colab": {
          "base_uri": "https://localhost:8080/",
          "height": 475
        },
        "id": "615e55cf-31eb-43b4-8108-be0569d05018",
        "outputId": "9428f3da-5e5c-4da1-c592-1689cf677921"
      },
      "outputs": [
        {
          "output_type": "execute_result",
          "data": {
            "text/plain": [
              "<Axes: xlabel='Loan_Status', ylabel='count'>"
            ]
          },
          "metadata": {},
          "execution_count": 8
        },
        {
          "output_type": "display_data",
          "data": {
            "text/plain": [
              "<Figure size 640x480 with 1 Axes>"
            ],
            "image/png": "[encoded data removed]"
          },
          "metadata": {}
        }
      ],
      "source": [
        "sns.countplot(x = dataset['Loan_Status'], hue = dataset['Loan_Status'])"
      ]
    },
    {
      "cell_type": "markdown",
      "id": "bc2b1792-352c-41db-96f4-8e9130486cb1",
      "metadata": {
        "id": "bc2b1792-352c-41db-96f4-8e9130486cb1"
      },
      "source": [
        "##### The loan approval dataset exhibits a substantial class imbalance, with a majority of applications approved (422 instances) compared to rejected ones (192 instances)."
      ]
    },
    {
      "cell_type": "markdown",
      "id": "08282f64-70b2-4221-9cab-5017b27f5e38",
      "metadata": {
        "id": "08282f64-70b2-4221-9cab-5017b27f5e38"
      },
      "source": [
        "#### **Analyse Gender**"
      ]
    },
    {
      "cell_type": "code",
      "execution_count": 9,
      "id": "1d7c96c9-315a-4b0a-b9d1-4e6feea4fd92",
      "metadata": {
        "colab": {
          "base_uri": "https://localhost:8080/",
          "height": 445
        },
        "id": "1d7c96c9-315a-4b0a-b9d1-4e6feea4fd92",
        "outputId": "26fd8ca5-e455-4412-e975-6ebc33cc3674"
      },
      "outputs": [
        {
          "output_type": "execute_result",
          "data": {
            "text/plain": [
              "Text(0.5, 1.0, 'Distribution of Genders')"
            ]
          },
          "metadata": {},
          "execution_count": 9
        },
        {
          "output_type": "display_data",
          "data": {
            "text/plain": [
              "<Figure size 640x480 with 1 Axes>"
            ],
            "image/png": "[encoded data removed]"
          },
          "metadata": {}
        }
      ],
      "source": [
        "gender_counts = dataset['Gender'].value_counts()\n",
        "\n",
        "plt.pie(gender_counts, labels=gender_counts.index, autopct='%1.1f%%', startangle=140)\n",
        "plt.title('Distribution of Genders')"
      ]
    },
    {
      "cell_type": "markdown",
      "id": "fcab083e-4c87-4f07-a908-d2674b64098f",
      "metadata": {
        "id": "fcab083e-4c87-4f07-a908-d2674b64098f"
      },
      "source": [
        "##### The dataset shows a gender imbalance, with approximately 81% male loan applicants and 18.6% female applicants, visually enhanced by a custom color palette."
      ]
    },
    {
      "cell_type": "markdown",
      "id": "f957391e-2288-4cd3-a5c3-5be16806905c",
      "metadata": {
        "id": "f957391e-2288-4cd3-a5c3-5be16806905c"
      },
      "source": [
        "#### **Analyse Education**"
      ]
    },
    {
      "cell_type": "code",
      "execution_count": 10,
      "id": "b3b07580-afb9-4197-a37e-5dd2683c3c44",
      "metadata": {
        "colab": {
          "base_uri": "https://localhost:8080/",
          "height": 478
        },
        "id": "b3b07580-afb9-4197-a37e-5dd2683c3c44",
        "outputId": "9e226afd-a483-45cc-b13a-2e74cbf5b138"
      },
      "outputs": [
        {
          "output_type": "execute_result",
          "data": {
            "text/plain": [
              "<Axes: xlabel='Education', ylabel='count'>"
            ]
          },
          "metadata": {},
          "execution_count": 10
        },
        {
          "output_type": "display_data",
          "data": {
            "text/plain": [
              "<Figure size 640x480 with 1 Axes>"
            ],
            "image/png": "[encoded data removed]"
          },
          "metadata": {}
        }
      ],
      "source": [
        "sns.countplot(x = dataset['Education'], hue = dataset['Education'])"
      ]
    },
    {
      "cell_type": "markdown",
      "id": "073c6b31-2029-4fa3-8831-27ff4f807fa5",
      "metadata": {
        "id": "073c6b31-2029-4fa3-8831-27ff4f807fa5"
      },
      "source": [
        "##### 78.2% of loan applicants are graduates, with 480 graduate applicants compared to 134 non-graduates."
      ]
    },
    {
      "cell_type": "markdown",
      "id": "b7d22b82-999c-49ca-8b49-192cb37fb2b5",
      "metadata": {
        "id": "b7d22b82-999c-49ca-8b49-192cb37fb2b5"
      },
      "source": [
        "#### **Analyse Property_Area**"
      ]
    },
    {
      "cell_type": "code",
      "execution_count": 11,
      "id": "f2a506d9-68ef-40cb-aa59-d1c0a12868ee",
      "metadata": {
        "colab": {
          "base_uri": "https://localhost:8080/",
          "height": 480
        },
        "id": "f2a506d9-68ef-40cb-aa59-d1c0a12868ee",
        "outputId": "7d70bb7e-812d-4feb-aecc-2d67fd5cfac4"
      },
      "outputs": [
        {
          "output_type": "display_data",
          "data": {
            "text/plain": [
              "<Figure size 640x480 with 1 Axes>"
            ],
            "image/png": "[encoded data removed]"
          },
          "metadata": {}
        }
      ],
      "source": [
        "ax = sns.countplot(x=dataset['Property_Area'], hue=dataset['Property_Area'])\n",
        "\n",
        "total = len(dataset['Property_Area'])\n",
        "for p in ax.patches:\n",
        "    height = p.get_height()\n",
        "    ax.annotate(f'{height/total:.1%}', (p.get_x() + p.get_width() / 2., height / 2),\n",
        "                ha='center', va='center', fontsize=10, color='white')\n",
        "\n",
        "plt.title('Distribution of Property Areas')\n",
        "plt.xlabel('Property Area')\n",
        "plt.ylabel('Count')\n",
        "plt.show()"
      ]
    },
    {
      "cell_type": "markdown",
      "id": "c40c7bb3-6a23-483b-80e5-a258849d7870",
      "metadata": {
        "id": "c40c7bb3-6a23-483b-80e5-a258849d7870"
      },
      "source": [
        "##### Semiurban dominates with 233 counts, making up 37.9% of the total, followed by Urban (202) and Rural (179), suggesting a notable disparity between Semiurban and the other areas."
      ]
    },
    {
      "cell_type": "markdown",
      "id": "a93bbbf0-e4db-44ff-b53e-d334734f53c9",
      "metadata": {
        "id": "a93bbbf0-e4db-44ff-b53e-d334734f53c9"
      },
      "source": [
        "#### **Analyse ApplicantIncome**"
      ]
    },
    {
      "cell_type": "code",
      "execution_count": 12,
      "id": "e548cf37",
      "metadata": {
        "colab": {
          "base_uri": "https://localhost:8080/",
          "height": 451
        },
        "id": "e548cf37",
        "outputId": "f3563f7e-4f59-46f9-e3f9-d701cf8ce338"
      },
      "outputs": [
        {
          "output_type": "execute_result",
          "data": {
            "text/plain": [
              "<Axes: >"
            ]
          },
          "metadata": {},
          "execution_count": 12
        },
        {
          "output_type": "display_data",
          "data": {
            "text/plain": [
              "<Figure size 640x480 with 1 Axes>"
            ],
            "image/png": "[encoded data removed]"
          },
          "metadata": {}
        }
      ],
      "source": [
        "# The boxplot shows a lot of outliers\n",
        "# Outliers (data points located outside the whiskers of the boxplot)\n",
        "\n",
        "dataset.boxplot(column='ApplicantIncome')"
      ]
    },
    {
      "cell_type": "code",
      "execution_count": 13,
      "id": "5974ea59",
      "metadata": {
        "colab": {
          "base_uri": "https://localhost:8080/",
          "height": 451
        },
        "id": "5974ea59",
        "outputId": "e37bd661-dbdb-4886-8bf3-4de5b696d97e"
      },
      "outputs": [
        {
          "output_type": "execute_result",
          "data": {
            "text/plain": [
              "<Axes: >"
            ]
          },
          "metadata": {},
          "execution_count": 13
        },
        {
          "output_type": "display_data",
          "data": {
            "text/plain": [
              "<Figure size 640x480 with 1 Axes>"
            ],
            "image/png": "[encoded data removed]"
          },
          "metadata": {}
        }
      ],
      "source": [
        "# The histogram shows the data is right skewed\n",
        "# so we will normalize the data to get better results.\n",
        "\n",
        "dataset['ApplicantIncome'].hist(bins=20)"
      ]
    },
    {
      "cell_type": "markdown",
      "id": "4bd47a28-3de4-4991-9cf0-71771a684e0c",
      "metadata": {
        "id": "4bd47a28-3de4-4991-9cf0-71771a684e0c"
      },
      "source": [
        "##### Income distribution is right-skewed, with most applicants earning between 0 to 25,000. Few outliers have incomes above 80,000."
      ]
    },
    {
      "cell_type": "markdown",
      "id": "f5c4d419-9416-4690-9a96-6cde18449f2a",
      "metadata": {
        "id": "f5c4d419-9416-4690-9a96-6cde18449f2a"
      },
      "source": [
        "#### **Analyse CoapplicantIncome**"
      ]
    },
    {
      "cell_type": "code",
      "execution_count": 14,
      "id": "2c95cc3f-c48f-4bdb-ae06-5d296fdc07a0",
      "metadata": {
        "colab": {
          "base_uri": "https://localhost:8080/",
          "height": 571
        },
        "id": "2c95cc3f-c48f-4bdb-ae06-5d296fdc07a0",
        "outputId": "32faf13c-5932-4ff0-d26c-6a6b984eb2ce"
      },
      "outputs": [
        {
          "output_type": "execute_result",
          "data": {
            "text/plain": [
              "<Axes: ylabel='CoapplicantIncome'>"
            ]
          },
          "metadata": {},
          "execution_count": 14
        },
        {
          "output_type": "stream",
          "name": "stderr",
          "text": [
            "/usr/local/lib/python3.11/dist-packages/seaborn/categorical.py:3399: UserWarning: 40.9% of the points cannot be placed; you may want to decrease the size of the markers or use stripplot.\n",
            "  warnings.warn(msg, UserWarning)\n"
          ]
        },
        {
          "output_type": "display_data",
          "data": {
            "text/plain": [
              "<Figure size 800x600 with 1 Axes>"
            ],
            "image/png": "[encoded data removed]"
          },
          "metadata": {}
        }
      ],
      "source": [
        "plt.figure(figsize=(8, 6))\n",
        "sns.swarmplot(y=dataset['CoapplicantIncome'], color='blue')"
      ]
    },
    {
      "cell_type": "code",
      "execution_count": 15,
      "id": "cbcc19bc",
      "metadata": {
        "colab": {
          "base_uri": "https://localhost:8080/",
          "height": 451
        },
        "id": "cbcc19bc",
        "outputId": "266014c2-c703-441b-aae7-3caeaee24940"
      },
      "outputs": [
        {
          "output_type": "execute_result",
          "data": {
            "text/plain": [
              "<Axes: >"
            ]
          },
          "metadata": {},
          "execution_count": 15
        },
        {
          "output_type": "display_data",
          "data": {
            "text/plain": [
              "<Figure size 640x480 with 1 Axes>"
            ],
            "image/png": "[encoded data removed]"
          },
          "metadata": {}
        }
      ],
      "source": [
        "dataset['CoapplicantIncome'].hist(bins=20)"
      ]
    },
    {
      "cell_type": "markdown",
      "id": "fe7dbdb0-bbc7-49ad-8e23-acd001cf593d",
      "metadata": {
        "id": "fe7dbdb0-bbc7-49ad-8e23-acd001cf593d"
      },
      "source": [
        "##### The co-applicant income distribution is heavily right-skewed, with most applicants having either no or low income, while a few outliers show high income, indicating limited dependency on co-applicants for loan applications."
      ]
    },
    {
      "cell_type": "markdown",
      "id": "b07d46d9-3c1b-4198-830f-7fb14ed19412",
      "metadata": {
        "id": "b07d46d9-3c1b-4198-830f-7fb14ed19412"
      },
      "source": [
        "#### **Analyse LoanAmount**"
      ]
    },
    {
      "cell_type": "code",
      "execution_count": 16,
      "id": "db32bff5-3b6a-4bc4-b40e-7e291d5f1a51",
      "metadata": {
        "colab": {
          "base_uri": "https://localhost:8080/",
          "height": 570
        },
        "id": "db32bff5-3b6a-4bc4-b40e-7e291d5f1a51",
        "outputId": "c7510f5b-a693-4c81-9722-c7cedc1a02f8"
      },
      "outputs": [
        {
          "output_type": "execute_result",
          "data": {
            "text/plain": [
              "<Axes: xlabel='LoanAmount', ylabel='Count'>"
            ]
          },
          "metadata": {},
          "execution_count": 16
        },
        {
          "output_type": "display_data",
          "data": {
            "text/plain": [
              "<Figure size 800x600 with 1 Axes>"
            ],
            "image/png": "[encoded data removed]"
          },
          "metadata": {}
        }
      ],
      "source": [
        "plt.figure(figsize=(8, 6))\n",
        "sns.histplot(dataset['LoanAmount'], kde=True, color='green')"
      ]
    },
    {
      "cell_type": "code",
      "execution_count": 17,
      "id": "9130f5af",
      "metadata": {
        "colab": {
          "base_uri": "https://localhost:8080/",
          "height": 451
        },
        "id": "9130f5af",
        "outputId": "5de4840c-0954-4be6-9170-e3aea04a7a2f"
      },
      "outputs": [
        {
          "output_type": "execute_result",
          "data": {
            "text/plain": [
              "<Axes: >"
            ]
          },
          "metadata": {},
          "execution_count": 17
        },
        {
          "output_type": "display_data",
          "data": {
            "text/plain": [
              "<Figure size 640x480 with 1 Axes>"
            ],
            "image/png": "[encoded data removed]"
          },
          "metadata": {}
        }
      ],
      "source": [
        "dataset.boxplot(column='LoanAmount')"
      ]
    },
    {
      "cell_type": "code",
      "execution_count": 18,
      "id": "6853fe08",
      "metadata": {
        "colab": {
          "base_uri": "https://localhost:8080/",
          "height": 451
        },
        "id": "6853fe08",
        "outputId": "39f177a5-6890-4fd2-d9e2-29b7a6d913ab"
      },
      "outputs": [
        {
          "output_type": "execute_result",
          "data": {
            "text/plain": [
              "<Axes: >"
            ]
          },
          "metadata": {},
          "execution_count": 18
        },
        {
          "output_type": "display_data",
          "data": {
            "text/plain": [
              "<Figure size 640x480 with 1 Axes>"
            ],
            "image/png": "[encoded data removed]"
          },
          "metadata": {}
        }
      ],
      "source": [
        "dataset['LoanAmount'].hist(bins=20)"
      ]
    },
    {
      "cell_type": "markdown",
      "id": "8bcc6985-70eb-4774-bf1e-4aa17c529995",
      "metadata": {
        "id": "8bcc6985-70eb-4774-bf1e-4aa17c529995"
      },
      "source": [
        "##### The loan amount distribution is right-skewed, with a majority of loans concentrated towards the lower end, while some individuals have taken out very large loans, resulting in a long tail towards higher values."
      ]
    },
    {
      "cell_type": "markdown",
      "id": "482f7cc5-370f-4623-89e5-412c9af7e77a",
      "metadata": {
        "id": "482f7cc5-370f-4623-89e5-412c9af7e77a"
      },
      "source": [
        "#### **Analyse Credit_History**"
      ]
    },
    {
      "cell_type": "code",
      "execution_count": 19,
      "id": "8aa87211-0876-4cb7-acf9-4db3a3bc57e0",
      "metadata": {
        "colab": {
          "base_uri": "https://localhost:8080/",
          "height": 475
        },
        "id": "8aa87211-0876-4cb7-acf9-4db3a3bc57e0",
        "outputId": "6f51fb02-3b4f-46e1-a24f-7c543a1ad651"
      },
      "outputs": [
        {
          "output_type": "execute_result",
          "data": {
            "text/plain": [
              "<Axes: xlabel='Credit_History', ylabel='count'>"
            ]
          },
          "metadata": {},
          "execution_count": 19
        },
        {
          "output_type": "display_data",
          "data": {
            "text/plain": [
              "<Figure size 640x480 with 1 Axes>"
            ],
            "image/png": "[encoded data removed]"
          },
          "metadata": {}
        }
      ],
      "source": [
        "sns.countplot(x = dataset['Credit_History'], hue = dataset['Credit_History'])"
      ]
    },
    {
      "cell_type": "markdown",
      "id": "d2fc1d05-ed2e-4146-bca7-330ed85f1e17",
      "metadata": {
        "id": "d2fc1d05-ed2e-4146-bca7-330ed85f1e17"
      },
      "source": [
        "##### Most applicants have a credit history ('1.0'), outnumbering those without ('0.0'), with around 100 applicants falling in the latter category, suggesting its significance in loan approval prediction."
      ]
    },
    {
      "cell_type": "markdown",
      "id": "8f7ce6da-838a-40f1-8cb4-ea216ceb2acc",
      "metadata": {
        "id": "8f7ce6da-838a-40f1-8cb4-ea216ceb2acc"
      },
      "source": [
        "#### **Analyse Loan_Amount_Term**"
      ]
    },
    {
      "cell_type": "code",
      "execution_count": 20,
      "id": "921f7533-5bef-4c5b-a57b-8be3352547a6",
      "metadata": {
        "colab": {
          "base_uri": "https://localhost:8080/",
          "height": 567
        },
        "id": "921f7533-5bef-4c5b-a57b-8be3352547a6",
        "outputId": "56abe890-d5e8-4701-b56a-665dc02bedbf"
      },
      "outputs": [
        {
          "output_type": "execute_result",
          "data": {
            "text/plain": [
              "<Axes: xlabel='Loan_Amount_Term', ylabel='count'>"
            ]
          },
          "metadata": {},
          "execution_count": 20
        },
        {
          "output_type": "display_data",
          "data": {
            "text/plain": [
              "<Figure size 1200x600 with 1 Axes>"
            ],
            "image/png": "[encoded data removed]"
          },
          "metadata": {}
        }
      ],
      "source": [
        "plt.figure(figsize=(12, 6))\n",
        "sns.countplot(x = dataset['Loan_Amount_Term'], hue = dataset['Loan_Amount_Term'])"
      ]
    },
    {
      "cell_type": "markdown",
      "id": "dffbca70-07d5-41ab-87f4-851a1c2a675f",
      "metadata": {
        "id": "dffbca70-07d5-41ab-87f4-851a1c2a675f"
      },
      "source": [
        "##### Most borrowers prefer a 30-year loan term, with 360 months being the most common, followed by 180 months, 480 months, and 300 months. Few instances exist for terms less than 180 months, with 12 months being the least common."
      ]
    },
    {
      "cell_type": "markdown",
      "id": "c1bdc5f4-0a87-4dda-b4ae-77cacea5e22e",
      "metadata": {
        "id": "c1bdc5f4-0a87-4dda-b4ae-77cacea5e22e"
      },
      "source": [
        "#### **ApplicantIncome with Education**"
      ]
    },
    {
      "cell_type": "code",
      "execution_count": 21,
      "id": "95ad5f10",
      "metadata": {
        "colab": {
          "base_uri": "https://localhost:8080/",
          "height": 504
        },
        "id": "95ad5f10",
        "outputId": "225201e7-8e99-4723-84be-e0552c7c3138"
      },
      "outputs": [
        {
          "output_type": "execute_result",
          "data": {
            "text/plain": [
              "<Axes: title={'center': 'ApplicantIncome'}, xlabel='Education'>"
            ]
          },
          "metadata": {},
          "execution_count": 21
        },
        {
          "output_type": "display_data",
          "data": {
            "text/plain": [
              "<Figure size 640x480 with 1 Axes>"
            ],
            "image/png": "[encoded data removed]"
          },
          "metadata": {}
        }
      ],
      "source": [
        "dataset.boxplot(column='ApplicantIncome', by='Education')"
      ]
    },
    {
      "cell_type": "markdown",
      "id": "6330ea11-539b-42a4-a214-4ebb92f37134",
      "metadata": {
        "id": "6330ea11-539b-42a4-a214-4ebb92f37134"
      },
      "source": [
        "# **Normalization**"
      ]
    },
    {
      "cell_type": "code",
      "execution_count": null,
      "id": "38eb6e4b",
      "metadata": {
        "id": "38eb6e4b",
        "outputId": "751ee00d-0eca-496a-974d-2c5bfe0d7d44"
      },
      "outputs": [
        {
          "data": {
            "text/plain": [
              "<Axes: >"
            ]
          },
          "execution_count": 22,
          "metadata": {},
          "output_type": "execute_result"
        },
        {
          "data": {
            "image/png": "[encoded data removed]",
            "text/plain": [
              "<Figure size 640x480 with 1 Axes>"
            ]
          },
          "metadata": {},
          "output_type": "display_data"
        }
      ],
      "source": [
        "# Normalizing the data using log function\n",
        "# Normalizing means rescaling the real valued numeric atributes into a range.\n",
        "# This leads to higher accuracy\n",
        "\n",
        "dataset['LoanAmount_log']=np.log(dataset['LoanAmount'])\n",
        "dataset['LoanAmount_log'].hist(bins=20)"
      ]
    },
    {
      "cell_type": "code",
      "execution_count": null,
      "id": "ca013119-3548-49f8-94fd-ad2c1b9a679e",
      "metadata": {
        "id": "ca013119-3548-49f8-94fd-ad2c1b9a679e",
        "outputId": "eb71f007-89c6-4b9b-a26f-5ae0b9c0cd83"
      },
      "outputs": [
        {
          "data": {
            "text/plain": [
              "<Axes: >"
            ]
          },
          "execution_count": 23,
          "metadata": {},
          "output_type": "execute_result"
        },
        {
          "data": {
            "image/png": "[encoded data removed]",
            "text/plain": [
              "<Figure size 640x480 with 1 Axes>"
            ]
          },
          "metadata": {},
          "output_type": "display_data"
        }
      ],
      "source": [
        "# Narmalizing the total income, using log\n",
        "\n",
        "dataset['TotalIncome']=dataset['ApplicantIncome']+dataset['CoapplicantIncome']\n",
        "dataset['TotalIncome_log']=np.log(dataset['TotalIncome'])\n",
        "dataset['TotalIncome_log'].hist(bins=20)"
      ]
    },
    {
      "cell_type": "code",
      "execution_count": null,
      "id": "b82a605e-b595-4e11-8c52-42fff0935995",
      "metadata": {
        "id": "b82a605e-b595-4e11-8c52-42fff0935995",
        "outputId": "2bc2b7f5-df10-4439-c5aa-98b051e8dee0"
      },
      "outputs": [
        {
          "data": {
            "text/html": [
              "<div>\n",
              "<style scoped>\n",
              "    .dataframe tbody tr th:only-of-type {\n",
              "        vertical-align: middle;\n",
              "    }\n",
              "\n",
              "    .dataframe tbody tr th {\n",
              "        vertical-align: top;\n",
              "    }\n",
              "\n",
              "    .dataframe thead th {\n",
              "        text-align: right;\n",
              "    }\n",
              "</style>\n",
              "<table border=\"1\" class=\"dataframe\">\n",
              "  <thead>\n",
              "    <tr style=\"text-align: right;\">\n",
              "      <th></th>\n",
              "      <th>Loan_ID</th>\n",
              "      <th>Gender</th>\n",
              "      <th>Married</th>\n",
              "      <th>Dependents</th>\n",
              "      <th>Education</th>\n",
              "      <th>Self_Employed</th>\n",
              "      <th>ApplicantIncome</th>\n",
              "      <th>CoapplicantIncome</th>\n",
              "      <th>LoanAmount</th>\n",
              "      <th>Loan_Amount_Term</th>\n",
              "      <th>Credit_History</th>\n",
              "      <th>Property_Area</th>\n",
              "      <th>Loan_Status</th>\n",
              "      <th>LoanAmount_log</th>\n",
              "      <th>TotalIncome</th>\n",
              "      <th>TotalIncome_log</th>\n",
              "    </tr>\n",
              "  </thead>\n",
              "  <tbody>\n",
              "    <tr>\n",
              "      <th>0</th>\n",
              "      <td>LP001002</td>\n",
              "      <td>Male</td>\n",
              "      <td>No</td>\n",
              "      <td>0</td>\n",
              "      <td>Graduate</td>\n",
              "      <td>No</td>\n",
              "      <td>5849</td>\n",
              "      <td>0.0</td>\n",
              "      <td>NaN</td>\n",
              "      <td>360.0</td>\n",
              "      <td>1.0</td>\n",
              "      <td>Urban</td>\n",
              "      <td>Y</td>\n",
              "      <td>NaN</td>\n",
              "      <td>5849.0</td>\n",
              "      <td>8.674026</td>\n",
              "    </tr>\n",
              "    <tr>\n",
              "      <th>1</th>\n",
              "      <td>LP001003</td>\n",
              "      <td>Male</td>\n",
              "      <td>Yes</td>\n",
              "      <td>1</td>\n",
              "      <td>Graduate</td>\n",
              "      <td>No</td>\n",
              "      <td>4583</td>\n",
              "      <td>1508.0</td>\n",
              "      <td>128.0</td>\n",
              "      <td>360.0</td>\n",
              "      <td>1.0</td>\n",
              "      <td>Rural</td>\n",
              "      <td>N</td>\n",
              "      <td>4.852030</td>\n",
              "      <td>6091.0</td>\n",
              "      <td>8.714568</td>\n",
              "    </tr>\n",
              "    <tr>\n",
              "      <th>2</th>\n",
              "      <td>LP001005</td>\n",
              "      <td>Male</td>\n",
              "      <td>Yes</td>\n",
              "      <td>0</td>\n",
              "      <td>Graduate</td>\n",
              "      <td>Yes</td>\n",
              "      <td>3000</td>\n",
              "      <td>0.0</td>\n",
              "      <td>66.0</td>\n",
              "      <td>360.0</td>\n",
              "      <td>1.0</td>\n",
              "      <td>Urban</td>\n",
              "      <td>Y</td>\n",
              "      <td>4.189655</td>\n",
              "      <td>3000.0</td>\n",
              "      <td>8.006368</td>\n",
              "    </tr>\n",
              "    <tr>\n",
              "      <th>3</th>\n",
              "      <td>LP001006</td>\n",
              "      <td>Male</td>\n",
              "      <td>Yes</td>\n",
              "      <td>0</td>\n",
              "      <td>Not Graduate</td>\n",
              "      <td>No</td>\n",
              "      <td>2583</td>\n",
              "      <td>2358.0</td>\n",
              "      <td>120.0</td>\n",
              "      <td>360.0</td>\n",
              "      <td>1.0</td>\n",
              "      <td>Urban</td>\n",
              "      <td>Y</td>\n",
              "      <td>4.787492</td>\n",
              "      <td>4941.0</td>\n",
              "      <td>8.505323</td>\n",
              "    </tr>\n",
              "    <tr>\n",
              "      <th>4</th>\n",
              "      <td>LP001008</td>\n",
              "      <td>Male</td>\n",
              "      <td>No</td>\n",
              "      <td>0</td>\n",
              "      <td>Graduate</td>\n",
              "      <td>No</td>\n",
              "      <td>6000</td>\n",
              "      <td>0.0</td>\n",
              "      <td>141.0</td>\n",
              "      <td>360.0</td>\n",
              "      <td>1.0</td>\n",
              "      <td>Urban</td>\n",
              "      <td>Y</td>\n",
              "      <td>4.948760</td>\n",
              "      <td>6000.0</td>\n",
              "      <td>8.699515</td>\n",
              "    </tr>\n",
              "  </tbody>\n",
              "</table>\n",
              "</div>"
            ],
            "text/plain": [
              "    Loan_ID Gender Married Dependents     Education Self_Employed  \\\n",
              "0  LP001002   Male      No          0      Graduate            No   \n",
              "1  LP001003   Male     Yes          1      Graduate            No   \n",
              "2  LP001005   Male     Yes          0      Graduate           Yes   \n",
              "3  LP001006   Male     Yes          0  Not Graduate            No   \n",
              "4  LP001008   Male      No          0      Graduate            No   \n",
              "\n",
              "   ApplicantIncome  CoapplicantIncome  LoanAmount  Loan_Amount_Term  \\\n",
              "0             5849                0.0         NaN             360.0   \n",
              "1             4583             1508.0       128.0             360.0   \n",
              "2             3000                0.0        66.0             360.0   \n",
              "3             2583             2358.0       120.0             360.0   \n",
              "4             6000                0.0       141.0             360.0   \n",
              "\n",
              "   Credit_History Property_Area Loan_Status  LoanAmount_log  TotalIncome  \\\n",
              "0             1.0         Urban           Y             NaN       5849.0   \n",
              "1             1.0         Rural           N        4.852030       6091.0   \n",
              "2             1.0         Urban           Y        4.189655       3000.0   \n",
              "3             1.0         Urban           Y        4.787492       4941.0   \n",
              "4             1.0         Urban           Y        4.948760       6000.0   \n",
              "\n",
              "   TotalIncome_log  \n",
              "0         8.674026  \n",
              "1         8.714568  \n",
              "2         8.006368  \n",
              "3         8.505323  \n",
              "4         8.699515  "
            ]
          },
          "execution_count": 24,
          "metadata": {},
          "output_type": "execute_result"
        }
      ],
      "source": [
        "dataset.head()"
      ]
    },
    {
      "cell_type": "markdown",
      "id": "b4e5cd76-f3e5-45c9-a198-af6d23712e02",
      "metadata": {
        "id": "b4e5cd76-f3e5-45c9-a198-af6d23712e02"
      },
      "source": [
        "# **Handling Outliers**"
      ]
    },
    {
      "cell_type": "code",
      "execution_count": null,
      "id": "b20dcf60-ace6-44ce-82b1-db5ee844c5eb",
      "metadata": {
        "id": "b20dcf60-ace6-44ce-82b1-db5ee844c5eb",
        "outputId": "1235ad80-6e63-4350-dca5-997b5ada95d2"
      },
      "outputs": [
        {
          "data": {
            "image/png": "[encoded data removed]",
            "text/plain": [
              "<Figure size 1500x400 with 2 Axes>"
            ]
          },
          "metadata": {},
          "output_type": "display_data"
        },
        {
          "data": {
            "image/png": "[encoded data removed]",
            "text/plain": [
              "<Figure size 1500x400 with 2 Axes>"
            ]
          },
          "metadata": {},
          "output_type": "display_data"
        },
        {
          "data": {
            "image/png": "[encoded data removed]",
            "text/plain": [
              "<Figure size 1500x400 with 2 Axes>"
            ]
          },
          "metadata": {},
          "output_type": "display_data"
        },
        {
          "data": {
            "image/png": "[encoded data removed]",
            "text/plain": [
              "<Figure size 1500x400 with 2 Axes>"
            ]
          },
          "metadata": {},
          "output_type": "display_data"
        }
      ],
      "source": [
        "# List of columns with outliers\n",
        "col_outliers = [\"LoanAmount\", \"ApplicantIncome\", \"Loan_Amount_Term\", \"CoapplicantIncome\"]\n",
        "\n",
        "for col in col_outliers:\n",
        "    fig, (ax1, ax2) = plt.subplots(ncols=2, figsize=(15, 4))\n",
        "    sns.histplot(data=dataset, x=col, bins=20, kde=True, ax=ax1, color='#2c921b')\n",
        "    sns.boxplot(data=dataset, x=col, ax=ax2, color='#921b8b')\n",
        "    ax1.set_title(f\"Histogram and Box Plot of {col}\", size=15, weight='bold')\n",
        "    ax1.set_xlabel(col, size=12, weight='bold')\n",
        "    ax1.set_ylabel(\"Frequency\", size=12, weight='bold')\n",
        "    ax2.set_xlabel(col, size=12, weight='bold')\n",
        "    ax2.set_ylabel(\"Value\", size=12, weight='bold')\n",
        "    plt.show()"
      ]
    },
    {
      "cell_type": "markdown",
      "id": "59094b54-e5a3-41d2-8229-7d220a9a8c0e",
      "metadata": {
        "id": "59094b54-e5a3-41d2-8229-7d220a9a8c0e"
      },
      "source": [
        "This function `remove_outliers` takes a DataFrame `data`, a list of `columns` to inspect for outliers, and an optional threshold `k` for the interquartile range (default is 1.5). It iterates over each specified column, calculates quartiles and the interquartile range (IQR), defines outlier bounds, and filters the DataFrame to exclude rows with values outside these bounds. Finally, it returns the filtered DataFrame without outliers. Adjusting `k` controls the strictness of outlier removal."
      ]
    },
    {
      "cell_type": "code",
      "execution_count": null,
      "id": "5c648364-b68d-4adc-a1c5-0e399faf5aaa",
      "metadata": {
        "id": "5c648364-b68d-4adc-a1c5-0e399faf5aaa"
      },
      "outputs": [],
      "source": [
        "def remove_outliers(data, columns, k=1.5):\n",
        "    for column in columns:\n",
        "        q1 = data[column].quantile(0.25)\n",
        "        q3 = data[column].quantile(0.75)\n",
        "        iqr = q3 - q1\n",
        "        lower_bound = q1 - k * iqr\n",
        "        upper_bound = q3 + k * iqr\n",
        "        data = data[(data[column] >= lower_bound) & (data[column] <= upper_bound)]\n",
        "    return data\n",
        "\n",
        "columns = ['LoanAmount', 'ApplicantIncome', 'Loan_Amount_Term', 'CoapplicantIncome']\n",
        "data = remove_outliers(dataset, columns)"
      ]
    },
    {
      "cell_type": "markdown",
      "id": "642f4013-aab1-4d3f-8684-7c950f889739",
      "metadata": {
        "id": "642f4013-aab1-4d3f-8684-7c950f889739"
      },
      "source": [
        "# **Handling Missing Values**"
      ]
    },
    {
      "cell_type": "code",
      "execution_count": null,
      "id": "3b8a14cf",
      "metadata": {
        "id": "3b8a14cf",
        "outputId": "db50252c-a494-4f96-bc7e-439ba60a6aa1"
      },
      "outputs": [
        {
          "data": {
            "text/plain": [
              "Loan_ID               0\n",
              "Gender               13\n",
              "Married               3\n",
              "Dependents           15\n",
              "Education             0\n",
              "Self_Employed        32\n",
              "ApplicantIncome       0\n",
              "CoapplicantIncome     0\n",
              "LoanAmount           22\n",
              "Loan_Amount_Term     14\n",
              "Credit_History       50\n",
              "Property_Area         0\n",
              "Loan_Status           0\n",
              "LoanAmount_log       22\n",
              "TotalIncome           0\n",
              "TotalIncome_log       0\n",
              "dtype: int64"
            ]
          },
          "execution_count": 27,
          "metadata": {},
          "output_type": "execute_result"
        }
      ],
      "source": [
        "dataset.isnull().sum()"
      ]
    },
    {
      "cell_type": "code",
      "execution_count": null,
      "id": "1957aaec",
      "metadata": {
        "id": "1957aaec"
      },
      "outputs": [],
      "source": [
        "# For categorical data, mode will be used\n",
        "\n",
        "mode_value = dataset['Gender'].mode()[0]\n",
        "dataset['Gender'] = dataset['Gender'].fillna(mode_value)"
      ]
    },
    {
      "cell_type": "code",
      "execution_count": null,
      "id": "69aaf528",
      "metadata": {
        "id": "69aaf528"
      },
      "outputs": [],
      "source": [
        "mode_value = dataset['Married'].mode()[0]\n",
        "dataset['Married'] = dataset['Married'].fillna(mode_value)"
      ]
    },
    {
      "cell_type": "code",
      "execution_count": null,
      "id": "cb553eb2",
      "metadata": {
        "id": "cb553eb2"
      },
      "outputs": [],
      "source": [
        "mode_value = dataset['Dependents'].mode()[0]\n",
        "dataset['Dependents'] = dataset['Dependents'].fillna(mode_value)"
      ]
    },
    {
      "cell_type": "code",
      "execution_count": null,
      "id": "0325ed6d",
      "metadata": {
        "id": "0325ed6d"
      },
      "outputs": [],
      "source": [
        "mode_value = dataset['Self_Employed'].mode()[0]\n",
        "dataset['Self_Employed'] = dataset['Self_Employed'].fillna(mode_value)"
      ]
    },
    {
      "cell_type": "code",
      "execution_count": null,
      "id": "e5fa4004-fa36-480d-bf8f-3bb59121d2ab",
      "metadata": {
        "id": "e5fa4004-fa36-480d-bf8f-3bb59121d2ab"
      },
      "outputs": [],
      "source": [
        "mode_value = dataset['Loan_Amount_Term'].mode()[0]\n",
        "dataset['Loan_Amount_Term'] = dataset['Loan_Amount_Term'].fillna(mode_value)"
      ]
    },
    {
      "cell_type": "code",
      "execution_count": null,
      "id": "9842bdca-f168-4835-928d-650e0820395a",
      "metadata": {
        "id": "9842bdca-f168-4835-928d-650e0820395a"
      },
      "outputs": [],
      "source": [
        "mode_value = dataset['Credit_History'].mode()[0]\n",
        "dataset['Credit_History'] = dataset['Credit_History'].fillna(mode_value)"
      ]
    },
    {
      "cell_type": "code",
      "execution_count": null,
      "id": "79d1b221",
      "metadata": {
        "id": "79d1b221"
      },
      "outputs": [],
      "source": [
        "# For numerical data, mean will be used\n",
        "\n",
        "dataset.LoanAmount = dataset.LoanAmount.fillna(dataset.LoanAmount.mean())\n",
        "dataset.LoanAmount_log = dataset.LoanAmount_log.fillna(dataset.LoanAmount_log.mean())"
      ]
    },
    {
      "cell_type": "code",
      "execution_count": null,
      "id": "00f1ae47",
      "metadata": {
        "id": "00f1ae47",
        "outputId": "6d868232-fcd9-4531-b7ba-6e8d83f4f4df"
      },
      "outputs": [
        {
          "data": {
            "text/plain": [
              "Loan_ID              0\n",
              "Gender               0\n",
              "Married              0\n",
              "Dependents           0\n",
              "Education            0\n",
              "Self_Employed        0\n",
              "ApplicantIncome      0\n",
              "CoapplicantIncome    0\n",
              "LoanAmount           0\n",
              "Loan_Amount_Term     0\n",
              "Credit_History       0\n",
              "Property_Area        0\n",
              "Loan_Status          0\n",
              "LoanAmount_log       0\n",
              "TotalIncome          0\n",
              "TotalIncome_log      0\n",
              "dtype: int64"
            ]
          },
          "execution_count": 35,
          "metadata": {},
          "output_type": "execute_result"
        }
      ],
      "source": [
        "dataset.isnull().sum()"
      ]
    },
    {
      "cell_type": "markdown",
      "id": "c1173080-41a9-4541-b91b-9240485bf3d2",
      "metadata": {
        "id": "c1173080-41a9-4541-b91b-9240485bf3d2"
      },
      "source": [
        "# **Splitting the dataset**"
      ]
    },
    {
      "cell_type": "code",
      "execution_count": null,
      "id": "24e24ee5",
      "metadata": {
        "id": "24e24ee5"
      },
      "outputs": [],
      "source": [
        "# Dividing the data into dependent and independent variables\n",
        "# X is independent variables, y is dependent variable (Loan Status)\n",
        "\n",
        "X= dataset.iloc[:,np.r_[1:5,9:11,13:15]].values\n",
        "y= dataset.iloc[:,12].values"
      ]
    },
    {
      "cell_type": "code",
      "execution_count": null,
      "id": "e760f348",
      "metadata": {
        "id": "e760f348",
        "outputId": "28b1a834-96e1-4f8e-b05e-56cab5d6d81b"
      },
      "outputs": [
        {
          "data": {
            "text/plain": [
              "array([['Male', 'No', '0', ..., 1.0, 4.857444178729352, 5849.0],\n",
              "       ['Male', 'Yes', '1', ..., 1.0, 4.852030263919617, 6091.0],\n",
              "       ['Male', 'Yes', '0', ..., 1.0, 4.189654742026425, 3000.0],\n",
              "       ...,\n",
              "       ['Male', 'Yes', '1', ..., 1.0, 5.53338948872752, 8312.0],\n",
              "       ['Male', 'Yes', '2', ..., 1.0, 5.231108616854587, 7583.0],\n",
              "       ['Female', 'No', '0', ..., 0.0, 4.890349128221754, 4583.0]],\n",
              "      dtype=object)"
            ]
          },
          "execution_count": 37,
          "metadata": {},
          "output_type": "execute_result"
        }
      ],
      "source": [
        "X"
      ]
    },
    {
      "cell_type": "code",
      "execution_count": null,
      "id": "aeb38ae5",
      "metadata": {
        "id": "aeb38ae5",
        "outputId": "18390089-194c-4bee-d577-453d32475a19"
      },
      "outputs": [
        {
          "data": {
            "text/plain": [
              "array(['Y', 'N', 'Y', 'Y', 'Y', 'Y', 'Y', 'N', 'Y', 'N', 'Y', 'Y', 'Y',\n",
              "       'N', 'Y', 'Y', 'Y', 'N', 'N', 'Y', 'N', 'Y', 'N', 'N', 'N', 'Y',\n",
              "       'Y', 'Y', 'N', 'Y', 'N', 'N', 'N', 'Y', 'N', 'Y', 'N', 'Y', 'Y',\n",
              "       'Y', 'N', 'Y', 'Y', 'Y', 'Y', 'Y', 'Y', 'Y', 'N', 'Y', 'Y', 'Y',\n",
              "       'N', 'N', 'N', 'Y', 'Y', 'N', 'Y', 'Y', 'Y', 'Y', 'N', 'N', 'N',\n",
              "       'N', 'N', 'Y', 'Y', 'N', 'Y', 'Y', 'Y', 'N', 'Y', 'N', 'N', 'N',\n",
              "       'N', 'Y', 'Y', 'Y', 'N', 'N', 'Y', 'Y', 'Y', 'Y', 'Y', 'Y', 'Y',\n",
              "       'Y', 'Y', 'Y', 'Y', 'N', 'Y', 'Y', 'Y', 'Y', 'Y', 'Y', 'Y', 'Y',\n",
              "       'Y', 'Y', 'Y', 'N', 'N', 'Y', 'Y', 'Y', 'N', 'Y', 'Y', 'Y', 'Y',\n",
              "       'Y', 'N', 'Y', 'Y', 'Y', 'Y', 'Y', 'Y', 'Y', 'Y', 'Y', 'N', 'N',\n",
              "       'Y', 'Y', 'Y', 'Y', 'Y', 'N', 'N', 'Y', 'N', 'N', 'N', 'Y', 'Y',\n",
              "       'Y', 'Y', 'Y', 'Y', 'Y', 'N', 'Y', 'N', 'Y', 'N', 'N', 'Y', 'Y',\n",
              "       'Y', 'Y', 'Y', 'Y', 'Y', 'N', 'N', 'Y', 'Y', 'Y', 'N', 'Y', 'N',\n",
              "       'Y', 'Y', 'Y', 'N', 'Y', 'N', 'Y', 'Y', 'N', 'Y', 'N', 'N', 'N',\n",
              "       'Y', 'N', 'Y', 'Y', 'N', 'Y', 'Y', 'Y', 'Y', 'N', 'N', 'Y', 'Y',\n",
              "       'N', 'Y', 'Y', 'Y', 'N', 'Y', 'Y', 'N', 'Y', 'Y', 'Y', 'Y', 'Y',\n",
              "       'Y', 'N', 'N', 'N', 'Y', 'Y', 'Y', 'Y', 'N', 'Y', 'N', 'Y', 'N',\n",
              "       'Y', 'Y', 'Y', 'Y', 'N', 'N', 'Y', 'Y', 'Y', 'Y', 'Y', 'Y', 'Y',\n",
              "       'Y', 'Y', 'N', 'Y', 'Y', 'Y', 'Y', 'N', 'Y', 'Y', 'Y', 'N', 'Y',\n",
              "       'Y', 'Y', 'Y', 'N', 'N', 'Y', 'Y', 'N', 'Y', 'N', 'N', 'N', 'N',\n",
              "       'Y', 'Y', 'N', 'Y', 'Y', 'Y', 'Y', 'Y', 'N', 'Y', 'Y', 'Y', 'Y',\n",
              "       'Y', 'Y', 'Y', 'Y', 'Y', 'Y', 'Y', 'N', 'Y', 'Y', 'Y', 'N', 'Y',\n",
              "       'N', 'Y', 'Y', 'Y', 'Y', 'N', 'Y', 'N', 'Y', 'Y', 'Y', 'Y', 'N',\n",
              "       'N', 'N', 'Y', 'Y', 'Y', 'Y', 'N', 'Y', 'N', 'N', 'Y', 'Y', 'Y',\n",
              "       'Y', 'Y', 'N', 'Y', 'Y', 'Y', 'Y', 'N', 'Y', 'Y', 'Y', 'Y', 'Y',\n",
              "       'N', 'Y', 'Y', 'N', 'Y', 'Y', 'Y', 'Y', 'Y', 'Y', 'Y', 'Y', 'Y',\n",
              "       'N', 'Y', 'N', 'N', 'Y', 'Y', 'Y', 'Y', 'N', 'Y', 'Y', 'Y', 'Y',\n",
              "       'N', 'Y', 'N', 'Y', 'Y', 'Y', 'N', 'N', 'Y', 'N', 'Y', 'Y', 'Y',\n",
              "       'Y', 'N', 'N', 'N', 'Y', 'N', 'Y', 'Y', 'Y', 'N', 'Y', 'Y', 'Y',\n",
              "       'Y', 'N', 'Y', 'Y', 'Y', 'Y', 'Y', 'N', 'Y', 'Y', 'N', 'Y', 'Y',\n",
              "       'Y', 'Y', 'Y', 'Y', 'Y', 'Y', 'N', 'Y', 'Y', 'N', 'N', 'N', 'Y',\n",
              "       'Y', 'N', 'Y', 'Y', 'Y', 'N', 'N', 'N', 'Y', 'N', 'Y', 'N', 'Y',\n",
              "       'N', 'N', 'Y', 'Y', 'Y', 'N', 'Y', 'N', 'Y', 'Y', 'N', 'Y', 'Y',\n",
              "       'Y', 'Y', 'N', 'Y', 'Y', 'Y', 'Y', 'Y', 'Y', 'N', 'Y', 'Y', 'Y',\n",
              "       'Y', 'Y', 'Y', 'Y', 'Y', 'N', 'N', 'N', 'N', 'Y', 'N', 'Y', 'Y',\n",
              "       'Y', 'Y', 'N', 'Y', 'N', 'Y', 'Y', 'Y', 'Y', 'N', 'Y', 'N', 'Y',\n",
              "       'Y', 'N', 'Y', 'N', 'Y', 'Y', 'Y', 'Y', 'Y', 'N', 'Y', 'N', 'Y',\n",
              "       'Y', 'Y', 'Y', 'Y', 'Y', 'N', 'N', 'Y', 'N', 'Y', 'Y', 'Y', 'Y',\n",
              "       'N', 'Y', 'Y', 'Y', 'Y', 'N', 'Y', 'Y', 'Y', 'N', 'Y', 'Y', 'Y',\n",
              "       'N', 'Y', 'Y', 'N', 'Y', 'Y', 'N', 'N', 'Y', 'Y', 'N', 'N', 'N',\n",
              "       'Y', 'Y', 'Y', 'Y', 'N', 'Y', 'Y', 'Y', 'Y', 'Y', 'Y', 'Y', 'N',\n",
              "       'N', 'Y', 'Y', 'Y', 'Y', 'N', 'Y', 'Y', 'N', 'Y', 'Y', 'Y', 'Y',\n",
              "       'N', 'Y', 'N', 'Y', 'N', 'Y', 'Y', 'N', 'N', 'Y', 'Y', 'Y', 'Y',\n",
              "       'Y', 'Y', 'Y', 'Y', 'Y', 'N', 'Y', 'Y', 'N', 'N', 'N', 'Y', 'N',\n",
              "       'Y', 'N', 'N', 'Y', 'N', 'Y', 'Y', 'Y', 'Y', 'N', 'Y', 'N', 'N',\n",
              "       'N', 'Y', 'Y', 'Y', 'N', 'Y', 'N', 'Y', 'Y', 'Y', 'Y', 'N', 'N',\n",
              "       'Y', 'Y', 'N', 'Y', 'Y', 'Y', 'Y', 'N', 'Y', 'Y', 'Y', 'Y', 'Y',\n",
              "       'Y', 'Y', 'N'], dtype=object)"
            ]
          },
          "execution_count": 38,
          "metadata": {},
          "output_type": "execute_result"
        }
      ],
      "source": [
        "y"
      ]
    },
    {
      "cell_type": "code",
      "execution_count": null,
      "id": "886ec2ca",
      "metadata": {
        "id": "886ec2ca"
      },
      "outputs": [],
      "source": [
        "#Split the dataset into train and test dataset\n",
        "#80% training data, 20% testing data\n",
        "#random state = 0 means result will be same for every cycle\n",
        "\n",
        "from sklearn.model_selection import train_test_split\n",
        "X_train, X_test, y_train, y_test = train_test_split(X, y, test_size=0.2, random_state=0)"
      ]
    },
    {
      "cell_type": "code",
      "execution_count": null,
      "id": "9c06c540",
      "metadata": {
        "id": "9c06c540",
        "outputId": "a6e38af8-2661-4ee3-be80-2184bd045669"
      },
      "outputs": [
        {
          "name": "stdout",
          "output_type": "stream",
          "text": [
            "[['Male' 'Yes' '0' ... 1.0 4.875197323201151 5858.0]\n",
            " ['Male' 'No' '1' ... 1.0 5.278114659230517 11250.0]\n",
            " ['Male' 'Yes' '0' ... 0.0 5.003946305945459 5681.0]\n",
            " ...\n",
            " ['Male' 'Yes' '3+' ... 1.0 5.298317366548036 8334.0]\n",
            " ['Male' 'Yes' '0' ... 1.0 5.075173815233827 6033.0]\n",
            " ['Female' 'Yes' '0' ... 1.0 5.204006687076795 6486.0]]\n"
          ]
        }
      ],
      "source": [
        "print(X_train)"
      ]
    },
    {
      "cell_type": "markdown",
      "id": "9ddfa820-1480-4e03-857d-b1b3d4799406",
      "metadata": {
        "id": "9ddfa820-1480-4e03-857d-b1b3d4799406"
      },
      "source": [
        "# **Label Encoding**"
      ]
    },
    {
      "cell_type": "code",
      "execution_count": null,
      "id": "501c7bba",
      "metadata": {
        "id": "501c7bba"
      },
      "outputs": [],
      "source": [
        "# X_train has categorical values\n",
        "# but we need to convert them into 0 and 1, for the computer to understand.\n",
        "# LabelEncoder to convert categorical text into numerical format\n",
        "\n",
        "from sklearn.preprocessing import LabelEncoder\n",
        "labelencoder_X = LabelEncoder()"
      ]
    },
    {
      "cell_type": "code",
      "execution_count": null,
      "id": "22297813",
      "metadata": {
        "id": "22297813"
      },
      "outputs": [],
      "source": [
        "for i in range(0,5):\n",
        "    X_train[:,i]=labelencoder_X.fit_transform(X_train[:,i])"
      ]
    },
    {
      "cell_type": "code",
      "execution_count": null,
      "id": "db5d0f04",
      "metadata": {
        "id": "db5d0f04"
      },
      "outputs": [],
      "source": [
        "X_train[:,i] = labelencoder_X.fit_transform(X_train[:,7])"
      ]
    },
    {
      "cell_type": "code",
      "execution_count": null,
      "id": "ae5084b2",
      "metadata": {
        "id": "ae5084b2",
        "outputId": "16d3666d-2dec-4773-b4ab-de672be663d4"
      },
      "outputs": [
        {
          "data": {
            "text/plain": [
              "array([[1, 1, 0, ..., 1.0, 4.875197323201151, 5858.0],\n",
              "       [1, 0, 1, ..., 1.0, 5.278114659230517, 11250.0],\n",
              "       [1, 1, 0, ..., 0.0, 5.003946305945459, 5681.0],\n",
              "       ...,\n",
              "       [1, 1, 3, ..., 1.0, 5.298317366548036, 8334.0],\n",
              "       [1, 1, 0, ..., 1.0, 5.075173815233827, 6033.0],\n",
              "       [0, 1, 0, ..., 1.0, 5.204006687076795, 6486.0]], dtype=object)"
            ]
          },
          "execution_count": 44,
          "metadata": {},
          "output_type": "execute_result"
        }
      ],
      "source": [
        "X_train"
      ]
    },
    {
      "cell_type": "code",
      "execution_count": null,
      "id": "c1330869",
      "metadata": {
        "id": "c1330869"
      },
      "outputs": [],
      "source": [
        "# Creating new instance of labelEncoder\n",
        "\n",
        "labelencoder_y = LabelEncoder()\n",
        "y_train = labelencoder_y.fit_transform(y_train)"
      ]
    },
    {
      "cell_type": "code",
      "execution_count": null,
      "id": "30718650",
      "metadata": {
        "id": "30718650",
        "outputId": "2caf9f52-7e86-4c84-83aa-d4d649856d42"
      },
      "outputs": [
        {
          "data": {
            "text/plain": [
              "array([1, 0, 0, 1, 1, 0, 1, 1, 1, 0, 0, 1, 1, 1, 1, 1, 1, 1, 1, 0, 1, 1,\n",
              "       0, 1, 1, 0, 0, 1, 1, 1, 0, 1, 1, 1, 1, 1, 0, 1, 0, 1, 0, 1, 1, 1,\n",
              "       1, 0, 0, 0, 1, 1, 1, 0, 1, 1, 1, 1, 1, 1, 1, 1, 0, 1, 0, 1, 1, 0,\n",
              "       1, 1, 1, 1, 1, 0, 0, 1, 1, 0, 1, 0, 0, 1, 0, 0, 1, 1, 1, 1, 1, 1,\n",
              "       1, 1, 0, 1, 0, 1, 0, 1, 1, 1, 1, 0, 0, 1, 1, 1, 0, 1, 1, 0, 0, 0,\n",
              "       1, 1, 1, 0, 1, 0, 0, 1, 0, 0, 0, 1, 1, 1, 1, 1, 0, 0, 0, 0, 1, 1,\n",
              "       0, 1, 1, 1, 1, 1, 1, 0, 0, 1, 1, 1, 1, 1, 0, 1, 1, 1, 1, 1, 1, 1,\n",
              "       1, 1, 1, 0, 1, 1, 1, 1, 1, 1, 1, 1, 1, 1, 1, 0, 0, 1, 1, 1, 1, 0,\n",
              "       0, 1, 0, 1, 0, 0, 0, 1, 0, 1, 1, 1, 1, 1, 0, 0, 1, 0, 1, 1, 1, 1,\n",
              "       0, 0, 1, 1, 1, 1, 1, 0, 0, 1, 1, 1, 1, 0, 1, 1, 1, 1, 0, 0, 1, 1,\n",
              "       0, 1, 1, 1, 0, 1, 1, 1, 0, 1, 0, 1, 0, 1, 1, 0, 0, 0, 1, 0, 1, 1,\n",
              "       1, 1, 1, 0, 1, 1, 1, 1, 1, 1, 0, 1, 0, 1, 0, 1, 1, 1, 1, 1, 1, 1,\n",
              "       1, 1, 0, 0, 1, 0, 1, 1, 1, 0, 1, 1, 0, 1, 0, 1, 0, 1, 1, 1, 1, 1,\n",
              "       1, 1, 1, 1, 0, 1, 1, 0, 1, 1, 1, 0, 0, 1, 1, 1, 1, 0, 1, 0, 1, 1,\n",
              "       1, 1, 1, 0, 1, 0, 1, 0, 0, 1, 1, 0, 1, 1, 0, 1, 1, 0, 0, 1, 1, 1,\n",
              "       1, 1, 1, 0, 1, 1, 1, 0, 1, 0, 0, 0, 0, 1, 1, 1, 1, 0, 0, 1, 1, 1,\n",
              "       1, 0, 1, 0, 1, 1, 1, 1, 1, 0, 1, 1, 1, 1, 1, 1, 1, 0, 1, 0, 0, 0,\n",
              "       1, 1, 0, 1, 1, 1, 1, 0, 1, 1, 0, 1, 0, 0, 0, 1, 1, 1, 1, 1, 1, 1,\n",
              "       1, 0, 1, 0, 1, 1, 1, 0, 1, 1, 1, 0, 0, 1, 1, 1, 1, 0, 1, 1, 1, 1,\n",
              "       1, 1, 0, 1, 0, 1, 0, 1, 1, 0, 0, 1, 1, 0, 1, 1, 1, 1, 1, 1, 1, 0,\n",
              "       1, 1, 0, 0, 1, 0, 1, 1, 1, 1, 1, 1, 1, 0, 0, 1, 0, 0, 0, 0, 0, 1,\n",
              "       1, 1, 1, 1, 1, 0, 1, 0, 1, 0, 0, 1, 1, 1, 0, 1, 1, 0, 0, 0, 0, 1,\n",
              "       1, 1, 1, 0, 1, 0, 1])"
            ]
          },
          "execution_count": 46,
          "metadata": {},
          "output_type": "execute_result"
        }
      ],
      "source": [
        "y_train"
      ]
    },
    {
      "cell_type": "code",
      "execution_count": null,
      "id": "49a859de",
      "metadata": {
        "id": "49a859de"
      },
      "outputs": [],
      "source": [
        "for i in range(0,5):\n",
        "    X_test[:,i]=labelencoder_X.fit_transform(X_test[:,i])"
      ]
    },
    {
      "cell_type": "code",
      "execution_count": null,
      "id": "e41fdcf4",
      "metadata": {
        "id": "e41fdcf4"
      },
      "outputs": [],
      "source": [
        "X_test[:,i] = labelencoder_X.fit_transform(X_test[:,7])"
      ]
    },
    {
      "cell_type": "code",
      "execution_count": null,
      "id": "99991629",
      "metadata": {
        "id": "99991629"
      },
      "outputs": [],
      "source": [
        "labelencoder_y = LabelEncoder()\n",
        "y_test = labelencoder_y.fit_transform(y_test)"
      ]
    },
    {
      "cell_type": "code",
      "execution_count": null,
      "id": "06f682f9",
      "metadata": {
        "id": "06f682f9",
        "outputId": "70a09364-8a17-4b10-a674-82f273d27468"
      },
      "outputs": [
        {
          "data": {
            "text/plain": [
              "array([[1, 0, 0, 0, 85, 1.0, 4.430816798843313, 7085.0],\n",
              "       [0, 0, 0, 0, 28, 1.0, 4.718498871295094, 4230.0],\n",
              "       [1, 1, 0, 0, 104, 1.0, 5.780743515792329, 10039.0],\n",
              "       [1, 1, 0, 0, 80, 1.0, 4.700480365792417, 6784.0],\n",
              "       [1, 1, 2, 0, 22, 1.0, 4.574710978503383, 3875.0],\n",
              "       [1, 1, 0, 1, 70, 0.0, 5.10594547390058, 6058.0],\n",
              "       [1, 1, 3, 0, 77, 1.0, 5.056245805348308, 6417.0],\n",
              "       [1, 0, 0, 0, 114, 1.0, 6.003887067106539, 12876.0],\n",
              "       [1, 0, 0, 0, 53, 0.0, 4.820281565605037, 5124.0],\n",
              "       [1, 1, 0, 0, 55, 1.0, 4.852030263919617, 5233.0],\n",
              "       [0, 0, 0, 0, 4, 1.0, 4.430816798843313, 2917.0],\n",
              "       [1, 1, 1, 0, 2, 1.0, 4.553876891600541, 2895.0],\n",
              "       [0, 0, 0, 0, 96, 1.0, 5.634789603169249, 8333.0],\n",
              "       [1, 1, 2, 0, 97, 1.0, 5.4638318050256105, 8667.0],\n",
              "       [1, 1, 0, 0, 117, 1.0, 4.564348191467836, 14880.0],\n",
              "       [1, 1, 1, 0, 22, 1.0, 4.204692619390966, 3875.0],\n",
              "       [1, 0, 1, 1, 32, 1.0, 5.247024072160486, 4311.0],\n",
              "       [1, 0, 0, 1, 25, 1.0, 4.882801922586371, 3946.0],\n",
              "       [0, 0, 0, 0, 1, 1.0, 4.532599493153256, 2500.0],\n",
              "       [1, 1, 0, 1, 44, 0.0, 5.198497031265826, 4787.0],\n",
              "       [0, 1, 0, 0, 71, 0.0, 4.787491742782046, 6085.0],\n",
              "       [1, 1, 0, 0, 43, 1.0, 4.962844630259907, 4765.0],\n",
              "       [1, 1, 2, 0, 91, 1.0, 4.68213122712422, 7550.0],\n",
              "       [1, 1, 2, 0, 111, 1.0, 5.10594547390058, 11500.0],\n",
              "       [1, 1, 0, 0, 35, 1.0, 4.060443010546419, 4521.0],\n",
              "       [1, 1, 1, 0, 94, 1.0, 5.521460917862246, 8069.0],\n",
              "       [1, 0, 0, 0, 98, 1.0, 5.231108616854587, 8724.0],\n",
              "       [1, 1, 0, 0, 110, 1.0, 5.231108616854587, 11333.0],\n",
              "       [1, 1, 3, 0, 41, 0.0, 4.852030263919617, 4680.0],\n",
              "       [0, 0, 0, 0, 50, 0.0, 4.634728988229636, 5000.0],\n",
              "       [1, 1, 0, 0, 99, 1.0, 5.429345628954441, 9083.0],\n",
              "       [1, 0, 0, 1, 46, 1.0, 3.871201010907891, 4885.0],\n",
              "       [1, 1, 1, 1, 52, 1.0, 4.499809670330265, 5100.0],\n",
              "       [1, 1, 0, 0, 102, 1.0, 5.19295685089021, 9734.0],\n",
              "       [1, 1, 0, 0, 95, 1.0, 4.857444178729352, 8235.0],\n",
              "       [0, 1, 0, 1, 57, 0.0, 5.181783550292085, 5386.0],\n",
              "       [1, 1, 0, 0, 65, 1.0, 5.147494476813453, 5717.0],\n",
              "       [1, 0, 0, 1, 39, 1.0, 4.836281906951478, 4592.0],\n",
              "       [1, 1, 0, 0, 75, 1.0, 4.852030263919617, 6250.0],\n",
              "       [1, 1, 2, 1, 24, 1.0, 4.68213122712422, 3917.0],\n",
              "       [0, 0, 0, 0, 9, 1.0, 4.382026634673881, 3244.0],\n",
              "       [1, 1, 3, 0, 68, 0.0, 4.812184355372417, 5900.0],\n",
              "       [1, 1, 2, 0, 0, 1.0, 2.833213344056216, 2385.0],\n",
              "       [1, 1, 1, 1, 67, 1.0, 5.062595033026967, 5783.0],\n",
              "       [1, 0, 0, 0, 21, 1.0, 4.330733340286331, 3858.0],\n",
              "       [1, 0, 0, 0, 113, 1.0, 5.231108616854587, 12083.0],\n",
              "       [1, 1, 1, 0, 18, 1.0, 4.7535901911063645, 3750.0],\n",
              "       [0, 0, 0, 0, 37, 1.0, 4.74493212836325, 4547.0],\n",
              "       [1, 1, 1, 0, 72, 1.0, 4.852030263919617, 6091.0],\n",
              "       [1, 0, 0, 0, 78, 1.0, 4.941642422609304, 6500.0],\n",
              "       [1, 1, 3, 1, 8, 1.0, 4.30406509320417, 3173.0],\n",
              "       [1, 1, 0, 0, 84, 1.0, 4.867534450455582, 7083.0],\n",
              "       [1, 1, 0, 1, 31, 1.0, 4.672828834461906, 4300.0],\n",
              "       [1, 0, 0, 0, 61, 1.0, 4.857444178729352, 5505.0],\n",
              "       [1, 1, 0, 0, 19, 1.0, 4.718498871295094, 3798.0],\n",
              "       [1, 1, 0, 0, 107, 1.0, 5.556828061699537, 10916.0],\n",
              "       [1, 1, 0, 0, 34, 1.0, 4.553876891600541, 4492.0],\n",
              "       [1, 0, 0, 1, 74, 1.0, 4.890349128221754, 6216.0],\n",
              "       [1, 1, 2, 0, 62, 1.0, 5.123963979403259, 5532.0],\n",
              "       [1, 0, 0, 0, 27, 1.0, 4.787491742782046, 4191.0],\n",
              "       [0, 0, 0, 0, 108, 0.0, 4.919980925828125, 11117.0],\n",
              "       [0, 0, 0, 0, 103, 1.0, 5.365976015021851, 10000.0],\n",
              "       [1, 1, 0, 1, 38, 1.0, 4.74493212836325, 4567.0],\n",
              "       [0, 0, 0, 0, 13, 0.0, 4.330733340286331, 3510.0],\n",
              "       [1, 1, 2, 0, 69, 1.0, 4.890349128221754, 5935.0],\n",
              "       [1, 1, 1, 0, 112, 1.0, 5.752572638825633, 11580.0],\n",
              "       [1, 1, 0, 0, 73, 1.0, 5.075173815233827, 6166.0],\n",
              "       [1, 0, 0, 0, 47, 1.0, 4.912654885736052, 4897.0],\n",
              "       [1, 1, 0, 0, 81, 1.0, 5.204006687076795, 6873.0],\n",
              "       [1, 0, 0, 1, 60, 1.0, 4.564348191467836, 5484.0],\n",
              "       [1, 0, 0, 0, 83, 1.0, 4.204692619390966, 6979.0],\n",
              "       [0, 1, 0, 0, 5, 1.0, 4.867534450455582, 2928.0],\n",
              "       [1, 1, 2, 1, 58, 1.0, 5.056245805348308, 5398.0],\n",
              "       [1, 1, 1, 1, 79, 1.0, 4.919980925828125, 6608.0],\n",
              "       [0, 1, 0, 0, 54, 1.0, 4.969813299576001, 5126.0],\n",
              "       [1, 1, 0, 1, 56, 1.0, 4.820281565605037, 5297.0],\n",
              "       [1, 0, 0, 0, 120, 1.0, 4.499809670330265, 35673.0],\n",
              "       [1, 0, 3, 0, 118, 1.0, 5.768320995793772, 15500.0],\n",
              "       [1, 1, 2, 0, 101, 1.0, 4.718498871295094, 9703.0],\n",
              "       [0, 0, 0, 0, 26, 0.0, 4.7535901911063645, 4166.0],\n",
              "       [0, 0, 0, 0, 33, 1.0, 4.727387818712341, 4328.0],\n",
              "       [1, 1, 1, 0, 119, 1.0, 6.214608098422191, 18333.0],\n",
              "       [0, 0, 0, 0, 89, 1.0, 5.267858159063328, 7441.0],\n",
              "       [1, 1, 2, 0, 92, 1.0, 5.231108616854587, 7583.0],\n",
              "       [1, 0, 0, 0, 6, 1.0, 4.2626798770413155, 3069.0],\n",
              "       [1, 1, 0, 0, 90, 1.0, 4.709530201312334, 7482.0],\n",
              "       [1, 1, 0, 0, 45, 1.0, 4.700480365792417, 4801.0],\n",
              "       [1, 1, 2, 0, 109, 1.0, 5.298317366548036, 11179.0],\n",
              "       [1, 0, 1, 0, 17, 1.0, 4.727387818712341, 3667.0],\n",
              "       [1, 1, 1, 0, 36, 1.0, 4.6443908991413725, 4545.0],\n",
              "       [0, 1, 0, 1, 16, 1.0, 4.605170185988092, 3572.0],\n",
              "       [1, 0, 0, 0, 7, 1.0, 4.30406509320417, 3167.0],\n",
              "       [1, 1, 1, 0, 88, 1.0, 5.147494476813453, 7283.0],\n",
              "       [1, 1, 3, 0, 87, 0.0, 5.19295685089021, 7167.0],\n",
              "       [0, 0, 0, 0, 3, 1.0, 4.2626798770413155, 2900.0],\n",
              "       [1, 0, 0, 1, 59, 0.0, 4.836281906951478, 5454.0],\n",
              "       [1, 0, 0, 0, 82, 1.0, 5.1647859739235145, 6950.0],\n",
              "       [1, 0, 0, 0, 66, 1.0, 4.969813299576001, 5762.0],\n",
              "       [1, 1, 2, 1, 51, 1.0, 4.394449154672439, 5093.0],\n",
              "       [1, 1, 1, 0, 100, 1.0, 5.231108616854587, 9538.0],\n",
              "       [1, 1, 0, 0, 93, 1.0, 5.351858133476067, 7977.0],\n",
              "       [1, 1, 0, 0, 15, 1.0, 4.605170185988092, 3539.0],\n",
              "       [1, 1, 2, 0, 106, 1.0, 4.787491742782046, 10819.0],\n",
              "       [1, 0, 0, 0, 105, 1.0, 4.787491742782046, 10383.0],\n",
              "       [1, 1, 3, 0, 64, 1.0, 4.852030263919617, 5703.0],\n",
              "       [1, 0, 0, 0, 49, 1.0, 4.8283137373023015, 4950.0],\n",
              "       [1, 0, 0, 1, 42, 1.0, 4.6443908991413725, 4750.0],\n",
              "       [0, 0, 0, 0, 10, 1.0, 4.477336814478207, 3410.0],\n",
              "       [1, 1, 0, 1, 20, 1.0, 4.553876891600541, 3849.0],\n",
              "       [1, 1, 3, 1, 14, 1.0, 4.394449154672439, 3522.0],\n",
              "       [1, 0, 0, 0, 76, 1.0, 5.298317366548036, 6400.0],\n",
              "       [0, 0, 0, 0, 11, 1.0, 4.90527477843843, 3418.0],\n",
              "       [1, 0, 0, 0, 18, 1.0, 4.727387818712341, 3750.0],\n",
              "       [1, 1, 2, 0, 23, 1.0, 4.248495242049359, 3900.0],\n",
              "       [1, 1, 0, 1, 63, 0.0, 5.303304908059076, 5558.0],\n",
              "       [1, 1, 0, 0, 48, 0.0, 4.499809670330265, 4949.0],\n",
              "       [0, 0, 0, 0, 30, 1.0, 4.430816798843313, 4292.0],\n",
              "       [1, 0, 0, 0, 29, 1.0, 4.897839799950911, 4269.0],\n",
              "       [1, 1, 2, 0, 86, 1.0, 5.170483995038151, 7100.0],\n",
              "       [1, 1, 3, 0, 115, 1.0, 4.867534450455582, 13746.0],\n",
              "       [1, 1, 0, 0, 116, 1.0, 6.077642243349034, 14583.0],\n",
              "       [1, 1, 3, 1, 40, 0.0, 4.248495242049359, 4611.0],\n",
              "       [1, 1, 1, 0, 12, 1.0, 4.564348191467836, 3428.0]], dtype=object)"
            ]
          },
          "execution_count": 50,
          "metadata": {},
          "output_type": "execute_result"
        }
      ],
      "source": [
        "X_test"
      ]
    },
    {
      "cell_type": "code",
      "execution_count": null,
      "id": "81743715",
      "metadata": {
        "id": "81743715",
        "outputId": "a4399fde-0d64-4cbf-e3e4-11add04b92d4"
      },
      "outputs": [
        {
          "data": {
            "text/plain": [
              "array([1, 0, 1, 0, 1, 0, 1, 1, 0, 1, 1, 1, 1, 1, 1, 0, 0, 1, 1, 0, 0, 1,\n",
              "       1, 1, 1, 1, 1, 1, 0, 0, 1, 1, 1, 1, 1, 0, 1, 1, 1, 1, 1, 0, 1, 1,\n",
              "       1, 1, 1, 1, 0, 1, 1, 1, 1, 1, 1, 1, 1, 0, 1, 1, 1, 0, 1, 0, 1, 1,\n",
              "       1, 1, 1, 1, 0, 1, 1, 1, 1, 1, 0, 0, 1, 0, 1, 0, 0, 1, 0, 1, 1, 1,\n",
              "       1, 1, 1, 0, 0, 0, 1, 0, 1, 1, 1, 1, 1, 1, 1, 0, 1, 1, 1, 1, 1, 0,\n",
              "       1, 0, 0, 1, 0, 1, 1, 1, 1, 1, 1, 0, 1])"
            ]
          },
          "execution_count": 51,
          "metadata": {},
          "output_type": "execute_result"
        }
      ],
      "source": [
        "y_test"
      ]
    },
    {
      "cell_type": "markdown",
      "id": "8c0bb9f6-63b6-476f-9128-25771d9e9e41",
      "metadata": {
        "id": "8c0bb9f6-63b6-476f-9128-25771d9e9e41"
      },
      "source": [
        "# **Scaling**"
      ]
    },
    {
      "cell_type": "code",
      "execution_count": null,
      "id": "8cf50140-2a1a-46fb-8ac3-50dfbd85fa36",
      "metadata": {
        "id": "8cf50140-2a1a-46fb-8ac3-50dfbd85fa36",
        "outputId": "a5a29261-a11e-4afb-8839-fd1c50a15a42"
      },
      "outputs": [
        {
          "data": {
            "text/plain": [
              "array([[1, 1, 0, ..., 1.0, 4.875197323201151, 5858.0],\n",
              "       [1, 0, 1, ..., 1.0, 5.278114659230517, 11250.0],\n",
              "       [1, 1, 0, ..., 0.0, 5.003946305945459, 5681.0],\n",
              "       ...,\n",
              "       [1, 1, 3, ..., 1.0, 5.298317366548036, 8334.0],\n",
              "       [1, 1, 0, ..., 1.0, 5.075173815233827, 6033.0],\n",
              "       [0, 1, 0, ..., 1.0, 5.204006687076795, 6486.0]], dtype=object)"
            ]
          },
          "execution_count": 52,
          "metadata": {},
          "output_type": "execute_result"
        }
      ],
      "source": [
        "X_train"
      ]
    },
    {
      "cell_type": "code",
      "execution_count": null,
      "id": "393a3308-b162-446a-8f07-94f3284eccf7",
      "metadata": {
        "id": "393a3308-b162-446a-8f07-94f3284eccf7",
        "outputId": "4ffc50cb-99d9-408b-84b0-591cbbece150"
      },
      "outputs": [
        {
          "data": {
            "text/plain": [
              "array([[1, 0, 0, 0, 85, 1.0, 4.430816798843313, 7085.0],\n",
              "       [0, 0, 0, 0, 28, 1.0, 4.718498871295094, 4230.0],\n",
              "       [1, 1, 0, 0, 104, 1.0, 5.780743515792329, 10039.0],\n",
              "       [1, 1, 0, 0, 80, 1.0, 4.700480365792417, 6784.0],\n",
              "       [1, 1, 2, 0, 22, 1.0, 4.574710978503383, 3875.0],\n",
              "       [1, 1, 0, 1, 70, 0.0, 5.10594547390058, 6058.0],\n",
              "       [1, 1, 3, 0, 77, 1.0, 5.056245805348308, 6417.0],\n",
              "       [1, 0, 0, 0, 114, 1.0, 6.003887067106539, 12876.0],\n",
              "       [1, 0, 0, 0, 53, 0.0, 4.820281565605037, 5124.0],\n",
              "       [1, 1, 0, 0, 55, 1.0, 4.852030263919617, 5233.0],\n",
              "       [0, 0, 0, 0, 4, 1.0, 4.430816798843313, 2917.0],\n",
              "       [1, 1, 1, 0, 2, 1.0, 4.553876891600541, 2895.0],\n",
              "       [0, 0, 0, 0, 96, 1.0, 5.634789603169249, 8333.0],\n",
              "       [1, 1, 2, 0, 97, 1.0, 5.4638318050256105, 8667.0],\n",
              "       [1, 1, 0, 0, 117, 1.0, 4.564348191467836, 14880.0],\n",
              "       [1, 1, 1, 0, 22, 1.0, 4.204692619390966, 3875.0],\n",
              "       [1, 0, 1, 1, 32, 1.0, 5.247024072160486, 4311.0],\n",
              "       [1, 0, 0, 1, 25, 1.0, 4.882801922586371, 3946.0],\n",
              "       [0, 0, 0, 0, 1, 1.0, 4.532599493153256, 2500.0],\n",
              "       [1, 1, 0, 1, 44, 0.0, 5.198497031265826, 4787.0],\n",
              "       [0, 1, 0, 0, 71, 0.0, 4.787491742782046, 6085.0],\n",
              "       [1, 1, 0, 0, 43, 1.0, 4.962844630259907, 4765.0],\n",
              "       [1, 1, 2, 0, 91, 1.0, 4.68213122712422, 7550.0],\n",
              "       [1, 1, 2, 0, 111, 1.0, 5.10594547390058, 11500.0],\n",
              "       [1, 1, 0, 0, 35, 1.0, 4.060443010546419, 4521.0],\n",
              "       [1, 1, 1, 0, 94, 1.0, 5.521460917862246, 8069.0],\n",
              "       [1, 0, 0, 0, 98, 1.0, 5.231108616854587, 8724.0],\n",
              "       [1, 1, 0, 0, 110, 1.0, 5.231108616854587, 11333.0],\n",
              "       [1, 1, 3, 0, 41, 0.0, 4.852030263919617, 4680.0],\n",
              "       [0, 0, 0, 0, 50, 0.0, 4.634728988229636, 5000.0],\n",
              "       [1, 1, 0, 0, 99, 1.0, 5.429345628954441, 9083.0],\n",
              "       [1, 0, 0, 1, 46, 1.0, 3.871201010907891, 4885.0],\n",
              "       [1, 1, 1, 1, 52, 1.0, 4.499809670330265, 5100.0],\n",
              "       [1, 1, 0, 0, 102, 1.0, 5.19295685089021, 9734.0],\n",
              "       [1, 1, 0, 0, 95, 1.0, 4.857444178729352, 8235.0],\n",
              "       [0, 1, 0, 1, 57, 0.0, 5.181783550292085, 5386.0],\n",
              "       [1, 1, 0, 0, 65, 1.0, 5.147494476813453, 5717.0],\n",
              "       [1, 0, 0, 1, 39, 1.0, 4.836281906951478, 4592.0],\n",
              "       [1, 1, 0, 0, 75, 1.0, 4.852030263919617, 6250.0],\n",
              "       [1, 1, 2, 1, 24, 1.0, 4.68213122712422, 3917.0],\n",
              "       [0, 0, 0, 0, 9, 1.0, 4.382026634673881, 3244.0],\n",
              "       [1, 1, 3, 0, 68, 0.0, 4.812184355372417, 5900.0],\n",
              "       [1, 1, 2, 0, 0, 1.0, 2.833213344056216, 2385.0],\n",
              "       [1, 1, 1, 1, 67, 1.0, 5.062595033026967, 5783.0],\n",
              "       [1, 0, 0, 0, 21, 1.0, 4.330733340286331, 3858.0],\n",
              "       [1, 0, 0, 0, 113, 1.0, 5.231108616854587, 12083.0],\n",
              "       [1, 1, 1, 0, 18, 1.0, 4.7535901911063645, 3750.0],\n",
              "       [0, 0, 0, 0, 37, 1.0, 4.74493212836325, 4547.0],\n",
              "       [1, 1, 1, 0, 72, 1.0, 4.852030263919617, 6091.0],\n",
              "       [1, 0, 0, 0, 78, 1.0, 4.941642422609304, 6500.0],\n",
              "       [1, 1, 3, 1, 8, 1.0, 4.30406509320417, 3173.0],\n",
              "       [1, 1, 0, 0, 84, 1.0, 4.867534450455582, 7083.0],\n",
              "       [1, 1, 0, 1, 31, 1.0, 4.672828834461906, 4300.0],\n",
              "       [1, 0, 0, 0, 61, 1.0, 4.857444178729352, 5505.0],\n",
              "       [1, 1, 0, 0, 19, 1.0, 4.718498871295094, 3798.0],\n",
              "       [1, 1, 0, 0, 107, 1.0, 5.556828061699537, 10916.0],\n",
              "       [1, 1, 0, 0, 34, 1.0, 4.553876891600541, 4492.0],\n",
              "       [1, 0, 0, 1, 74, 1.0, 4.890349128221754, 6216.0],\n",
              "       [1, 1, 2, 0, 62, 1.0, 5.123963979403259, 5532.0],\n",
              "       [1, 0, 0, 0, 27, 1.0, 4.787491742782046, 4191.0],\n",
              "       [0, 0, 0, 0, 108, 0.0, 4.919980925828125, 11117.0],\n",
              "       [0, 0, 0, 0, 103, 1.0, 5.365976015021851, 10000.0],\n",
              "       [1, 1, 0, 1, 38, 1.0, 4.74493212836325, 4567.0],\n",
              "       [0, 0, 0, 0, 13, 0.0, 4.330733340286331, 3510.0],\n",
              "       [1, 1, 2, 0, 69, 1.0, 4.890349128221754, 5935.0],\n",
              "       [1, 1, 1, 0, 112, 1.0, 5.752572638825633, 11580.0],\n",
              "       [1, 1, 0, 0, 73, 1.0, 5.075173815233827, 6166.0],\n",
              "       [1, 0, 0, 0, 47, 1.0, 4.912654885736052, 4897.0],\n",
              "       [1, 1, 0, 0, 81, 1.0, 5.204006687076795, 6873.0],\n",
              "       [1, 0, 0, 1, 60, 1.0, 4.564348191467836, 5484.0],\n",
              "       [1, 0, 0, 0, 83, 1.0, 4.204692619390966, 6979.0],\n",
              "       [0, 1, 0, 0, 5, 1.0, 4.867534450455582, 2928.0],\n",
              "       [1, 1, 2, 1, 58, 1.0, 5.056245805348308, 5398.0],\n",
              "       [1, 1, 1, 1, 79, 1.0, 4.919980925828125, 6608.0],\n",
              "       [0, 1, 0, 0, 54, 1.0, 4.969813299576001, 5126.0],\n",
              "       [1, 1, 0, 1, 56, 1.0, 4.820281565605037, 5297.0],\n",
              "       [1, 0, 0, 0, 120, 1.0, 4.499809670330265, 35673.0],\n",
              "       [1, 0, 3, 0, 118, 1.0, 5.768320995793772, 15500.0],\n",
              "       [1, 1, 2, 0, 101, 1.0, 4.718498871295094, 9703.0],\n",
              "       [0, 0, 0, 0, 26, 0.0, 4.7535901911063645, 4166.0],\n",
              "       [0, 0, 0, 0, 33, 1.0, 4.727387818712341, 4328.0],\n",
              "       [1, 1, 1, 0, 119, 1.0, 6.214608098422191, 18333.0],\n",
              "       [0, 0, 0, 0, 89, 1.0, 5.267858159063328, 7441.0],\n",
              "       [1, 1, 2, 0, 92, 1.0, 5.231108616854587, 7583.0],\n",
              "       [1, 0, 0, 0, 6, 1.0, 4.2626798770413155, 3069.0],\n",
              "       [1, 1, 0, 0, 90, 1.0, 4.709530201312334, 7482.0],\n",
              "       [1, 1, 0, 0, 45, 1.0, 4.700480365792417, 4801.0],\n",
              "       [1, 1, 2, 0, 109, 1.0, 5.298317366548036, 11179.0],\n",
              "       [1, 0, 1, 0, 17, 1.0, 4.727387818712341, 3667.0],\n",
              "       [1, 1, 1, 0, 36, 1.0, 4.6443908991413725, 4545.0],\n",
              "       [0, 1, 0, 1, 16, 1.0, 4.605170185988092, 3572.0],\n",
              "       [1, 0, 0, 0, 7, 1.0, 4.30406509320417, 3167.0],\n",
              "       [1, 1, 1, 0, 88, 1.0, 5.147494476813453, 7283.0],\n",
              "       [1, 1, 3, 0, 87, 0.0, 5.19295685089021, 7167.0],\n",
              "       [0, 0, 0, 0, 3, 1.0, 4.2626798770413155, 2900.0],\n",
              "       [1, 0, 0, 1, 59, 0.0, 4.836281906951478, 5454.0],\n",
              "       [1, 0, 0, 0, 82, 1.0, 5.1647859739235145, 6950.0],\n",
              "       [1, 0, 0, 0, 66, 1.0, 4.969813299576001, 5762.0],\n",
              "       [1, 1, 2, 1, 51, 1.0, 4.394449154672439, 5093.0],\n",
              "       [1, 1, 1, 0, 100, 1.0, 5.231108616854587, 9538.0],\n",
              "       [1, 1, 0, 0, 93, 1.0, 5.351858133476067, 7977.0],\n",
              "       [1, 1, 0, 0, 15, 1.0, 4.605170185988092, 3539.0],\n",
              "       [1, 1, 2, 0, 106, 1.0, 4.787491742782046, 10819.0],\n",
              "       [1, 0, 0, 0, 105, 1.0, 4.787491742782046, 10383.0],\n",
              "       [1, 1, 3, 0, 64, 1.0, 4.852030263919617, 5703.0],\n",
              "       [1, 0, 0, 0, 49, 1.0, 4.8283137373023015, 4950.0],\n",
              "       [1, 0, 0, 1, 42, 1.0, 4.6443908991413725, 4750.0],\n",
              "       [0, 0, 0, 0, 10, 1.0, 4.477336814478207, 3410.0],\n",
              "       [1, 1, 0, 1, 20, 1.0, 4.553876891600541, 3849.0],\n",
              "       [1, 1, 3, 1, 14, 1.0, 4.394449154672439, 3522.0],\n",
              "       [1, 0, 0, 0, 76, 1.0, 5.298317366548036, 6400.0],\n",
              "       [0, 0, 0, 0, 11, 1.0, 4.90527477843843, 3418.0],\n",
              "       [1, 0, 0, 0, 18, 1.0, 4.727387818712341, 3750.0],\n",
              "       [1, 1, 2, 0, 23, 1.0, 4.248495242049359, 3900.0],\n",
              "       [1, 1, 0, 1, 63, 0.0, 5.303304908059076, 5558.0],\n",
              "       [1, 1, 0, 0, 48, 0.0, 4.499809670330265, 4949.0],\n",
              "       [0, 0, 0, 0, 30, 1.0, 4.430816798843313, 4292.0],\n",
              "       [1, 0, 0, 0, 29, 1.0, 4.897839799950911, 4269.0],\n",
              "       [1, 1, 2, 0, 86, 1.0, 5.170483995038151, 7100.0],\n",
              "       [1, 1, 3, 0, 115, 1.0, 4.867534450455582, 13746.0],\n",
              "       [1, 1, 0, 0, 116, 1.0, 6.077642243349034, 14583.0],\n",
              "       [1, 1, 3, 1, 40, 0.0, 4.248495242049359, 4611.0],\n",
              "       [1, 1, 1, 0, 12, 1.0, 4.564348191467836, 3428.0]], dtype=object)"
            ]
          },
          "execution_count": 53,
          "metadata": {},
          "output_type": "execute_result"
        }
      ],
      "source": [
        "X_test"
      ]
    },
    {
      "cell_type": "code",
      "execution_count": null,
      "id": "5a8c813b",
      "metadata": {
        "id": "5a8c813b"
      },
      "outputs": [],
      "source": [
        "# Scaling the data, as there are different variables in the dataset with different range.\n",
        "# Scaling helps in speeding up the calculations in the algorithm.\n",
        "\n",
        "from sklearn.preprocessing import StandardScaler\n",
        "ss=StandardScaler()\n",
        "X_train=ss.fit_transform(X_train)\n",
        "X_test=ss.fit_transform(X_test)"
      ]
    },
    {
      "cell_type": "code",
      "execution_count": null,
      "id": "fe7fb2c1-3beb-4560-89ca-dc1000ea0eab",
      "metadata": {
        "id": "fe7fb2c1-3beb-4560-89ca-dc1000ea0eab",
        "outputId": "f84737f5-a164-4cab-8dd7-bd6c1c8cf081"
      },
      "outputs": [
        {
          "data": {
            "text/plain": [
              "array([[ 0.47374983,  0.71143163, -0.76304669, ...,  0.41790088,\n",
              "         0.03484798, -0.18578759],\n",
              "       [ 0.47374983, -1.40561644,  0.22549137, ...,  0.41790088,\n",
              "         0.83102078,  0.59265746],\n",
              "       [ 0.47374983,  0.71143163, -0.76304669, ..., -2.39291191,\n",
              "         0.28925857, -0.21134115],\n",
              "       ...,\n",
              "       [ 0.47374983,  0.71143163,  2.2025675 , ...,  0.41790088,\n",
              "         0.87094174,  0.17167345],\n",
              "       [ 0.47374983,  0.71143163, -0.76304669, ...,  0.41790088,\n",
              "         0.43000557, -0.16052278],\n",
              "       [-2.11081869,  0.71143163, -0.76304669, ...,  0.41790088,\n",
              "         0.68458193, -0.095123  ]])"
            ]
          },
          "execution_count": 55,
          "metadata": {},
          "output_type": "execute_result"
        }
      ],
      "source": [
        "X_train"
      ]
    },
    {
      "cell_type": "code",
      "execution_count": null,
      "id": "81229e58-08b8-41ae-99c8-3c9efa2a27a4",
      "metadata": {
        "id": "81229e58-08b8-41ae-99c8-3c9efa2a27a4",
        "outputId": "8c102f13-06c2-4eb5-e1ca-ca62aec99969"
      },
      "outputs": [
        {
          "data": {
            "text/plain": [
              "array([[ 4.66713812e-01, -1.25000000e+00, -6.40593614e-01,\n",
              "        -5.17726991e-01,  7.32623333e-01,  3.86694596e-01,\n",
              "        -9.44182815e-01,  1.34657546e-01],\n",
              "       [-2.14264068e+00, -1.25000000e+00, -6.40593614e-01,\n",
              "        -5.17726991e-01, -8.95402716e-01,  3.86694596e-01,\n",
              "        -3.06802355e-01, -5.77249733e-01],\n",
              "       [ 4.66713812e-01,  8.00000000e-01, -6.40593614e-01,\n",
              "        -5.17726991e-01,  1.27529868e+00,  3.86694596e-01,\n",
              "         2.04667756e+00,  8.71250927e-01],\n",
              "       [ 4.66713812e-01,  8.00000000e-01, -6.40593614e-01,\n",
              "        -5.17726991e-01,  5.89814030e-01,  3.86694596e-01,\n",
              "        -3.46723659e-01,  5.96018225e-02],\n",
              "       [ 4.66713812e-01,  8.00000000e-01,  1.37974009e+00,\n",
              "        -5.17726991e-01, -1.06677388e+00,  3.86694596e-01,\n",
              "        -6.25374842e-01, -6.65770603e-01],\n",
              "       [ 4.66713812e-01,  8.00000000e-01, -6.40593614e-01,\n",
              "         1.93151993e+00,  3.04195425e-01, -2.58602011e+00,\n",
              "         5.51613645e-01, -1.21429591e-01],\n",
              "       [ 4.66713812e-01,  8.00000000e-01,  2.38990694e+00,\n",
              "        -5.17726991e-01,  5.04128448e-01,  3.86694596e-01,\n",
              "         4.41500431e-01, -3.19113023e-02],\n",
              "       [ 4.66713812e-01, -1.25000000e+00, -6.40593614e-01,\n",
              "        -5.17726991e-01,  1.56091729e+00,  3.86694596e-01,\n",
              "         2.54106826e+00,  1.57866982e+00],\n",
              "       [ 4.66713812e-01, -1.25000000e+00, -6.40593614e-01,\n",
              "        -5.17726991e-01, -1.81356204e-01, -2.58602011e+00,\n",
              "        -8.12954265e-02, -3.54326753e-01],\n",
              "       [ 4.66713812e-01,  8.00000000e-01, -6.40593614e-01,\n",
              "        -5.17726991e-01, -1.24232483e-01,  3.86694596e-01,\n",
              "        -1.09538866e-02, -3.27147105e-01],\n",
              "       [-2.14264068e+00, -1.25000000e+00, -6.40593614e-01,\n",
              "        -5.17726991e-01, -1.58088737e+00,  3.86694596e-01,\n",
              "        -9.44182815e-01, -9.04652275e-01],\n",
              "       [ 4.66713812e-01,  8.00000000e-01,  3.69573239e-01,\n",
              "        -5.17726991e-01, -1.63801109e+00,  3.86694596e-01,\n",
              "        -6.71534270e-01, -9.10138075e-01],\n",
              "       [-2.14264068e+00, -1.25000000e+00, -6.40593614e-01,\n",
              "        -5.17726991e-01,  1.04680380e+00,  3.86694596e-01,\n",
              "         1.72330610e+00,  4.45852041e-01],\n",
              "       [ 4.66713812e-01,  8.00000000e-01,  1.37974009e+00,\n",
              "        -5.17726991e-01,  1.07536566e+00,  3.86694596e-01,\n",
              "         1.34453672e+00,  5.29136466e-01],\n",
              "       [ 4.66713812e-01,  8.00000000e-01, -6.40593614e-01,\n",
              "        -5.17726991e-01,  1.64660287e+00,  3.86694596e-01,\n",
              "        -6.48334347e-01,  2.07837637e+00],\n",
              "       [ 4.66713812e-01,  8.00000000e-01,  3.69573239e-01,\n",
              "        -5.17726991e-01, -1.06677388e+00,  3.86694596e-01,\n",
              "        -1.44517731e+00, -6.65770603e-01],\n",
              "       [ 4.66713812e-01, -1.25000000e+00,  3.69573239e-01,\n",
              "         1.93151993e+00, -7.81155274e-01,  3.86694596e-01,\n",
              "         8.64183494e-01, -5.57052013e-01],\n",
              "       [ 4.66713812e-01, -1.25000000e+00, -6.40593614e-01,\n",
              "         1.93151993e+00, -9.81088298e-01,  3.86694596e-01,\n",
              "         5.72229511e-02, -6.48066429e-01],\n",
              "       [-2.14264068e+00, -1.25000000e+00, -6.40593614e-01,\n",
              "        -5.17726991e-01, -1.66657295e+00,  3.86694596e-01,\n",
              "        -7.18675887e-01, -1.00863313e+00],\n",
              "       [ 4.66713812e-01,  8.00000000e-01, -6.40593614e-01,\n",
              "         1.93151993e+00, -4.38412948e-01, -2.58602011e+00,\n",
              "         7.56668322e-01, -4.38359241e-01],\n",
              "       [-2.14264068e+00,  8.00000000e-01, -6.40593614e-01,\n",
              "        -5.17726991e-01,  3.32757285e-01, -2.58602011e+00,\n",
              "        -1.53943653e-01, -1.14697017e-01],\n",
              "       [ 4.66713812e-01,  8.00000000e-01, -6.40593614e-01,\n",
              "        -5.17726991e-01, -4.66974809e-01,  3.86694596e-01,\n",
              "         2.34563365e-01, -4.43845041e-01],\n",
              "       [ 4.66713812e-01,  8.00000000e-01,  1.37974009e+00,\n",
              "        -5.17726991e-01,  9.03994496e-01,  3.86694596e-01,\n",
              "        -3.87377504e-01,  2.50607418e-01],\n",
              "       [ 4.66713812e-01,  8.00000000e-01,  1.37974009e+00,\n",
              "        -5.17726991e-01,  1.47523171e+00,  3.86694596e-01,\n",
              "         5.51613645e-01,  1.23555794e+00],\n",
              "       [ 4.66713812e-01,  8.00000000e-01, -6.40593614e-01,\n",
              "        -5.17726991e-01, -6.95469693e-01,  3.86694596e-01,\n",
              "        -1.76477276e+00, -5.04687555e-01],\n",
              "       [ 4.66713812e-01,  8.00000000e-01,  3.69573239e-01,\n",
              "        -5.17726991e-01,  9.89680077e-01,  3.86694596e-01,\n",
              "         1.47221820e+00,  3.80022437e-01],\n",
              "       [ 4.66713812e-01, -1.25000000e+00, -6.40593614e-01,\n",
              "        -5.17726991e-01,  1.10392752e+00,  3.86694596e-01,\n",
              "         8.28921651e-01,  5.43349676e-01],\n",
              "       [ 4.66713812e-01,  8.00000000e-01, -6.40593614e-01,\n",
              "        -5.17726991e-01,  1.44666985e+00,  3.86694596e-01,\n",
              "         8.28921651e-01,  1.19391573e+00],\n",
              "       [ 4.66713812e-01,  8.00000000e-01,  2.38990694e+00,\n",
              "        -5.17726991e-01, -5.24098530e-01, -2.58602011e+00,\n",
              "        -1.09538866e-02, -4.65040179e-01],\n",
              "       [-2.14264068e+00, -1.25000000e+00, -6.40593614e-01,\n",
              "        -5.17726991e-01, -2.67041785e-01, -2.58602011e+00,\n",
              "        -4.92400596e-01, -3.85246719e-01],\n",
              "       [ 4.66713812e-01,  8.00000000e-01, -6.40593614e-01,\n",
              "        -5.17726991e-01,  1.13248938e+00,  3.86694596e-01,\n",
              "         1.26813010e+00,  6.32867964e-01],\n",
              "       [ 4.66713812e-01, -1.25000000e+00, -6.40593614e-01,\n",
              "         1.93151993e+00, -3.81289227e-01,  3.86694596e-01,\n",
              "        -2.18405211e+00, -4.13922494e-01],\n",
              "       [ 4.66713812e-01,  8.00000000e-01,  3.69573239e-01,\n",
              "         1.93151993e+00, -2.09918064e-01,  3.86694596e-01,\n",
              "        -7.91324113e-01, -3.60311262e-01],\n",
              "       [ 4.66713812e-01,  8.00000000e-01, -6.40593614e-01,\n",
              "        -5.17726991e-01,  1.21817496e+00,  3.86694596e-01,\n",
              "         7.44393651e-01,  7.95197785e-01],\n",
              "       [ 4.66713812e-01,  8.00000000e-01, -6.40593614e-01,\n",
              "        -5.17726991e-01,  1.01824194e+00,  3.86694596e-01,\n",
              "         1.04103360e-03,  4.21415294e-01],\n",
              "       [-2.14264068e+00,  8.00000000e-01, -6.40593614e-01,\n",
              "         1.93151993e+00, -6.71087617e-02, -2.58602011e+00,\n",
              "         7.19638394e-01, -2.88995857e-01],\n",
              "       [ 4.66713812e-01,  8.00000000e-01, -6.40593614e-01,\n",
              "        -5.17726991e-01,  1.61386122e-01,  3.86694596e-01,\n",
              "         6.43668469e-01, -2.06459497e-01],\n",
              "       [ 4.66713812e-01, -1.25000000e+00, -6.40593614e-01,\n",
              "         1.93151993e+00, -5.81222251e-01,  3.86694596e-01,\n",
              "        -4.58455117e-02, -4.86983381e-01],\n",
              "       [ 4.66713812e-01,  8.00000000e-01, -6.40593614e-01,\n",
              "        -5.17726991e-01,  4.47004727e-01,  3.86694596e-01,\n",
              "        -1.09538866e-02, -7.35535144e-02],\n",
              "       [ 4.66713812e-01,  8.00000000e-01,  1.37974009e+00,\n",
              "         1.93151993e+00, -1.00965016e+00,  3.86694596e-01,\n",
              "        -3.87377504e-01, -6.55297711e-01],\n",
              "       [-2.14264068e+00, -1.25000000e+00, -6.40593614e-01,\n",
              "        -5.17726991e-01, -1.43807807e+00,  3.86694596e-01,\n",
              "        -1.05228096e+00, -8.23113332e-01],\n",
              "       [ 4.66713812e-01,  8.00000000e-01,  2.38990694e+00,\n",
              "        -5.17726991e-01,  2.47071704e-01, -2.58602011e+00,\n",
              "        -9.92353820e-02, -1.60827612e-01],\n",
              "       [ 4.66713812e-01,  8.00000000e-01,  1.37974009e+00,\n",
              "        -5.17726991e-01, -1.69513481e+00,  3.86694596e-01,\n",
              "        -4.48378894e+00, -1.03730890e+00],\n",
              "       [ 4.66713812e-01,  8.00000000e-01,  3.69573239e-01,\n",
              "         1.93151993e+00,  2.18509843e-01,  3.86694596e-01,\n",
              "         4.55567605e-01, -1.90002096e-01],\n",
              "       [ 4.66713812e-01, -1.25000000e+00, -6.40593614e-01,\n",
              "        -5.17726991e-01, -1.09533574e+00,  3.86694596e-01,\n",
              "        -1.16592496e+00, -6.70009630e-01],\n",
              "       [ 4.66713812e-01, -1.25000000e+00, -6.40593614e-01,\n",
              "        -5.17726991e-01,  1.53235543e+00,  3.86694596e-01,\n",
              "         8.28921651e-01,  1.38093165e+00],\n",
              "       [ 4.66713812e-01,  8.00000000e-01,  3.69573239e-01,\n",
              "        -5.17726991e-01, -1.18102132e+00,  3.86694596e-01,\n",
              "        -2.29054995e-01, -6.96939923e-01],\n",
              "       [-2.14264068e+00, -1.25000000e+00, -6.40593614e-01,\n",
              "        -5.17726991e-01, -6.38345972e-01,  3.86694596e-01,\n",
              "        -2.48237560e-01, -4.98204336e-01],\n",
              "       [ 4.66713812e-01,  8.00000000e-01,  3.69573239e-01,\n",
              "        -5.17726991e-01,  3.61319146e-01,  3.86694596e-01,\n",
              "        -1.09538866e-02, -1.13200890e-01],\n",
              "       [ 4.66713812e-01, -1.25000000e+00, -6.40593614e-01,\n",
              "        -5.17726991e-01,  5.32690309e-01,  3.86694596e-01,\n",
              "         1.87588339e-01, -1.12148735e-02],\n",
              "       [ 4.66713812e-01,  8.00000000e-01,  2.38990694e+00,\n",
              "         1.93151993e+00, -1.46663993e+00,  3.86694596e-01,\n",
              "        -1.22501040e+00, -8.40817506e-01],\n",
              "       [ 4.66713812e-01,  8.00000000e-01, -6.40593614e-01,\n",
              "        -5.17726991e-01,  7.04061472e-01,  3.86694596e-01,\n",
              "         2.33967612e-02,  1.34158837e-01],\n",
              "       [ 4.66713812e-01,  8.00000000e-01, -6.40593614e-01,\n",
              "         1.93151993e+00, -8.09717135e-01,  3.86694596e-01,\n",
              "        -4.07987628e-01, -5.59794913e-01],\n",
              "       [ 4.66713812e-01, -1.25000000e+00, -6.40593614e-01,\n",
              "        -5.17726991e-01,  4.71386803e-02,  3.86694596e-01,\n",
              "         1.04103360e-03, -2.59322664e-01],\n",
              "       [ 4.66713812e-01,  8.00000000e-01, -6.40593614e-01,\n",
              "        -5.17726991e-01, -1.15245946e+00,  3.86694596e-01,\n",
              "        -3.06802355e-01, -6.84970904e-01],\n",
              "       [ 4.66713812e-01,  8.00000000e-01, -6.40593614e-01,\n",
              "        -5.17726991e-01,  1.36098426e+00,  3.86694596e-01,\n",
              "         1.55057666e+00,  1.08993488e+00],\n",
              "       [ 4.66713812e-01,  8.00000000e-01, -6.40593614e-01,\n",
              "        -5.17726991e-01, -7.24031553e-01,  3.86694596e-01,\n",
              "        -6.71534270e-01, -5.11918837e-01],\n",
              "       [ 4.66713812e-01, -1.25000000e+00, -6.40593614e-01,\n",
              "         1.93151993e+00,  4.18442867e-01,  3.86694596e-01,\n",
              "         7.39443316e-02, -8.20315696e-02],\n",
              "       [ 4.66713812e-01,  8.00000000e-01,  1.37974009e+00,\n",
              "        -5.17726991e-01,  7.57005409e-02,  3.86694596e-01,\n",
              "         5.91534949e-01, -2.52590091e-01],\n",
              "       [ 4.66713812e-01, -1.25000000e+00, -6.40593614e-01,\n",
              "        -5.17726991e-01, -9.23964577e-01,  3.86694596e-01,\n",
              "        -1.53943653e-01, -5.86974561e-01],\n",
              "       [-2.14264068e+00, -1.25000000e+00, -6.40593614e-01,\n",
              "        -5.17726991e-01,  1.38954612e+00, -2.58602011e+00,\n",
              "         1.39595725e-01,  1.14005515e+00],\n",
              "       [-2.14264068e+00, -1.25000000e+00, -6.40593614e-01,\n",
              "        -5.17726991e-01,  1.24673682e+00,  3.86694596e-01,\n",
              "         1.12773014e+00,  8.61526099e-01],\n",
              "       [ 4.66713812e-01,  8.00000000e-01, -6.40593614e-01,\n",
              "         1.93151993e+00, -6.09784111e-01,  3.86694596e-01,\n",
              "        -2.48237560e-01, -4.93217245e-01],\n",
              "       [-2.14264068e+00, -1.25000000e+00, -6.40593614e-01,\n",
              "        -5.17726991e-01, -1.32383062e+00, -2.58602011e+00,\n",
              "        -1.16592496e+00, -7.56785018e-01],\n",
              "       [ 4.66713812e-01,  8.00000000e-01,  1.37974009e+00,\n",
              "        -5.17726991e-01,  2.75633564e-01,  3.86694596e-01,\n",
              "         7.39443316e-02, -1.52100202e-01],\n",
              "       [ 4.66713812e-01,  8.00000000e-01,  3.69573239e-01,\n",
              "        -5.17726991e-01,  1.50379357e+00,  3.86694596e-01,\n",
              "         1.98426295e+00,  1.25550631e+00],\n",
              "       [ 4.66713812e-01,  8.00000000e-01, -6.40593614e-01,\n",
              "        -5.17726991e-01,  3.89881006e-01,  3.86694596e-01,\n",
              "         4.83436807e-01, -9.44992977e-02],\n",
              "       [ 4.66713812e-01, -1.25000000e+00, -6.40593614e-01,\n",
              "        -5.17726991e-01, -3.52727367e-01,  3.86694596e-01,\n",
              "         1.23364352e-01, -4.10930239e-01],\n",
              "       [ 4.66713812e-01,  8.00000000e-01, -6.40593614e-01,\n",
              "        -5.17726991e-01,  6.18375890e-01,  3.86694596e-01,\n",
              "         7.68875363e-01,  8.17943786e-02],\n",
              "       [ 4.66713812e-01, -1.25000000e+00, -6.40593614e-01,\n",
              "         1.93151993e+00,  1.85768198e-02,  3.86694596e-01,\n",
              "        -6.48334347e-01, -2.64559110e-01],\n",
              "       [ 4.66713812e-01, -1.25000000e+00, -6.40593614e-01,\n",
              "        -5.17726991e-01,  6.75499612e-01,  3.86694596e-01,\n",
              "        -1.44517731e+00,  1.08225962e-01],\n",
              "       [-2.14264068e+00,  8.00000000e-01, -6.40593614e-01,\n",
              "        -5.17726991e-01, -1.55232551e+00,  3.86694596e-01,\n",
              "         2.33967612e-02, -9.01909374e-01],\n",
              "       [ 4.66713812e-01,  8.00000000e-01,  1.37974009e+00,\n",
              "         1.93151993e+00, -3.85469012e-02,  3.86694596e-01,\n",
              "         4.41500431e-01, -2.86003603e-01],\n",
              "       [ 4.66713812e-01,  8.00000000e-01,  3.69573239e-01,\n",
              "         1.93151993e+00,  5.61252169e-01,  3.86694596e-01,\n",
              "         1.39595725e-01,  1.57154193e-02],\n",
              "       [-2.14264068e+00,  8.00000000e-01, -6.40593614e-01,\n",
              "        -5.17726991e-01, -1.52794343e-01,  3.86694596e-01,\n",
              "         2.50002957e-01, -3.53828044e-01],\n",
              "       [ 4.66713812e-01,  8.00000000e-01, -6.40593614e-01,\n",
              "         1.93151993e+00, -9.56706222e-02,  3.86694596e-01,\n",
              "        -8.12954265e-02, -3.11188413e-01],\n",
              "       [ 4.66713812e-01, -1.25000000e+00, -6.40593614e-01,\n",
              "        -5.17726991e-01,  1.73228845e+00,  3.86694596e-01,\n",
              "        -7.91324113e-01,  7.26320581e+00],\n",
              "       [ 4.66713812e-01, -1.25000000e+00,  2.38990694e+00,\n",
              "        -5.17726991e-01,  1.67516473e+00,  3.86694596e-01,\n",
              "         2.01915457e+00,  2.23297620e+00],\n",
              "       [ 4.66713812e-01,  8.00000000e-01,  1.37974009e+00,\n",
              "        -5.17726991e-01,  1.18961310e+00,  3.86694596e-01,\n",
              "        -3.06802355e-01,  7.87467793e-01],\n",
              "       [-2.14264068e+00, -1.25000000e+00, -6.40593614e-01,\n",
              "        -5.17726991e-01, -9.52526437e-01, -2.58602011e+00,\n",
              "        -2.29054995e-01, -5.93208425e-01],\n",
              "       [-2.14264068e+00, -1.25000000e+00, -6.40593614e-01,\n",
              "        -5.17726991e-01, -7.52593414e-01,  3.86694596e-01,\n",
              "        -2.87108248e-01, -5.52812985e-01],\n",
              "       [ 4.66713812e-01,  8.00000000e-01,  3.69573239e-01,\n",
              "        -5.17726991e-01,  1.70372659e+00,  3.86694596e-01,\n",
              "         3.00793596e+00,  2.93939768e+00],\n",
              "       [-2.14264068e+00, -1.25000000e+00, -6.40593614e-01,\n",
              "        -5.17726991e-01,  8.46870775e-01,  3.86694596e-01,\n",
              "         9.10342922e-01,  2.23427771e-01],\n",
              "       [ 4.66713812e-01,  8.00000000e-01,  1.37974009e+00,\n",
              "        -5.17726991e-01,  9.32556356e-01,  3.86694596e-01,\n",
              "         8.28921651e-01,  2.58836119e-01],\n",
              "       [ 4.66713812e-01, -1.25000000e+00, -6.40593614e-01,\n",
              "        -5.17726991e-01, -1.52376365e+00,  3.86694596e-01,\n",
              "        -1.31670234e+00, -8.66750381e-01],\n",
              "       [ 4.66713812e-01,  8.00000000e-01, -6.40593614e-01,\n",
              "        -5.17726991e-01,  8.75432635e-01,  3.86694596e-01,\n",
              "        -3.26673093e-01,  2.33651308e-01],\n",
              "       [ 4.66713812e-01,  8.00000000e-01, -6.40593614e-01,\n",
              "        -5.17726991e-01, -4.09851088e-01,  3.86694596e-01,\n",
              "        -3.46723659e-01, -4.34868277e-01],\n",
              "       [ 4.66713812e-01,  8.00000000e-01,  1.37974009e+00,\n",
              "        -5.17726991e-01,  1.41810798e+00,  3.86694596e-01,\n",
              "         9.77827502e-01,  1.15551513e+00],\n",
              "       [ 4.66713812e-01, -1.25000000e+00,  3.69573239e-01,\n",
              "        -5.17726991e-01, -1.20958318e+00,  3.86694596e-01,\n",
              "        -2.87108248e-01, -7.17636352e-01],\n",
              "       [ 4.66713812e-01,  8.00000000e-01,  3.69573239e-01,\n",
              "        -5.17726991e-01, -6.66907832e-01,  3.86694596e-01,\n",
              "        -4.70993933e-01, -4.98703045e-01],\n",
              "       [-2.14264068e+00,  8.00000000e-01, -6.40593614e-01,\n",
              "         1.93151993e+00, -1.23814504e+00,  3.86694596e-01,\n",
              "        -5.57890263e-01, -7.41325035e-01],\n",
              "       [ 4.66713812e-01, -1.25000000e+00, -6.40593614e-01,\n",
              "        -5.17726991e-01, -1.49520179e+00,  3.86694596e-01,\n",
              "        -1.22501040e+00, -8.42313634e-01],\n",
              "       [ 4.66713812e-01,  8.00000000e-01,  3.69573239e-01,\n",
              "        -5.17726991e-01,  8.18308914e-01,  3.86694596e-01,\n",
              "         6.43668469e-01,  1.84029750e-01],\n",
              "       [ 4.66713812e-01,  8.00000000e-01,  2.38990694e+00,\n",
              "        -5.17726991e-01,  7.89747054e-01, -2.58602011e+00,\n",
              "         7.44393651e-01,  1.55104620e-01],\n",
              "       [-2.14264068e+00, -1.25000000e+00, -6.40593614e-01,\n",
              "        -5.17726991e-01, -1.60944923e+00,  3.86694596e-01,\n",
              "        -1.31670234e+00, -9.08891302e-01],\n",
              "       [ 4.66713812e-01, -1.25000000e+00, -6.40593614e-01,\n",
              "         1.93151993e+00, -9.98504067e-03, -2.58602011e+00,\n",
              "        -4.58455117e-02, -2.72039747e-01],\n",
              "       [ 4.66713812e-01, -1.25000000e+00, -6.40593614e-01,\n",
              "        -5.17726991e-01,  6.46937751e-01,  3.86694596e-01,\n",
              "         6.81979033e-01,  1.00994680e-01],\n",
              "       [ 4.66713812e-01, -1.25000000e+00, -6.40593614e-01,\n",
              "        -5.17726991e-01,  1.89947983e-01,  3.86694596e-01,\n",
              "         2.50002957e-01, -1.95238541e-01],\n",
              "       [ 4.66713812e-01,  8.00000000e-01,  1.37974009e+00,\n",
              "         1.93151993e+00, -2.38479925e-01,  3.86694596e-01,\n",
              "        -1.02475796e+00, -3.62056744e-01],\n",
              "       [ 4.66713812e-01,  8.00000000e-01,  3.69573239e-01,\n",
              "        -5.17726991e-01,  1.16105124e+00,  3.86694596e-01,\n",
              "         8.28921651e-01,  7.46324290e-01],\n",
              "       [ 4.66713812e-01,  8.00000000e-01, -6.40593614e-01,\n",
              "        -5.17726991e-01,  9.61118217e-01,  3.86694596e-01,\n",
              "         1.09645095e+00,  3.57081817e-01],\n",
              "       [ 4.66713812e-01,  8.00000000e-01, -6.40593614e-01,\n",
              "        -5.17726991e-01, -1.26670690e+00,  3.86694596e-01,\n",
              "        -5.57890263e-01, -7.49553736e-01],\n",
              "       [ 4.66713812e-01,  8.00000000e-01,  1.37974009e+00,\n",
              "        -5.17726991e-01,  1.33242240e+00,  3.86694596e-01,\n",
              "        -1.53943653e-01,  1.06574749e+00],\n",
              "       [ 4.66713812e-01, -1.25000000e+00, -6.40593614e-01,\n",
              "        -5.17726991e-01,  1.30386054e+00,  3.86694596e-01,\n",
              "        -1.53943653e-01,  9.57028896e-01],\n",
              "       [ 4.66713812e-01,  8.00000000e-01,  2.38990694e+00,\n",
              "        -5.17726991e-01,  1.32824262e-01,  3.86694596e-01,\n",
              "        -1.09538866e-02, -2.09950461e-01],\n",
              "       [ 4.66713812e-01, -1.25000000e+00, -6.40593614e-01,\n",
              "        -5.17726991e-01, -2.95603646e-01,  3.86694596e-01,\n",
              "        -6.34995685e-02, -3.97714447e-01],\n",
              "       [ 4.66713812e-01, -1.25000000e+00, -6.40593614e-01,\n",
              "         1.93151993e+00, -4.95536669e-01,  3.86694596e-01,\n",
              "        -4.70993933e-01, -4.47585360e-01],\n",
              "       [-2.14264068e+00, -1.25000000e+00, -6.40593614e-01,\n",
              "        -5.17726991e-01, -1.40951621e+00,  3.86694596e-01,\n",
              "        -8.41114353e-01, -7.81720475e-01],\n",
              "       [ 4.66713812e-01,  8.00000000e-01, -6.40593614e-01,\n",
              "         1.93151993e+00, -1.12389760e+00,  3.86694596e-01,\n",
              "        -6.71534270e-01, -6.72253821e-01],\n",
              "       [ 4.66713812e-01,  8.00000000e-01,  2.38990694e+00,\n",
              "         1.93151993e+00, -1.29526876e+00,  3.86694596e-01,\n",
              "        -1.02475796e+00, -7.53792764e-01],\n",
              "       [ 4.66713812e-01, -1.25000000e+00, -6.40593614e-01,\n",
              "        -5.17726991e-01,  4.75566588e-01,  3.86694596e-01,\n",
              "         9.77827502e-01, -3.61503299e-02],\n",
              "       [-2.14264068e+00, -1.25000000e+00, -6.40593614e-01,\n",
              "        -5.17726991e-01, -1.38095435e+00,  3.86694596e-01,\n",
              "         1.07013190e-01, -7.79725638e-01],\n",
              "       [ 4.66713812e-01, -1.25000000e+00, -6.40593614e-01,\n",
              "        -5.17726991e-01, -1.18102132e+00,  3.86694596e-01,\n",
              "        -2.87108248e-01, -6.96939923e-01],\n",
              "       [ 4.66713812e-01,  8.00000000e-01,  1.37974009e+00,\n",
              "        -5.17726991e-01, -1.03821202e+00,  3.86694596e-01,\n",
              "        -1.34812943e+00, -6.59536739e-01],\n",
              "       [ 4.66713812e-01,  8.00000000e-01, -6.40593614e-01,\n",
              "         1.93151993e+00,  1.04262401e-01, -2.58602011e+00,\n",
              "         9.88877761e-01, -2.46106872e-01],\n",
              "       [ 4.66713812e-01,  8.00000000e-01, -6.40593614e-01,\n",
              "        -5.17726991e-01, -3.24165506e-01, -2.58602011e+00,\n",
              "        -7.91324113e-01, -3.97963802e-01],\n",
              "       [-2.14264068e+00, -1.25000000e+00, -6.40593614e-01,\n",
              "        -5.17726991e-01, -8.38278995e-01,  3.86694596e-01,\n",
              "        -9.44182815e-01, -5.61789750e-01],\n",
              "       [ 4.66713812e-01, -1.25000000e+00, -6.40593614e-01,\n",
              "        -5.17726991e-01, -8.66840856e-01,  3.86694596e-01,\n",
              "         9.05404572e-02, -5.67524905e-01],\n",
              "       [ 4.66713812e-01,  8.00000000e-01,  1.37974009e+00,\n",
              "        -5.17726991e-01,  7.61185193e-01,  3.86694596e-01,\n",
              "         6.94603412e-01,  1.38397865e-01],\n",
              "       [ 4.66713812e-01,  8.00000000e-01,  2.38990694e+00,\n",
              "        -5.17726991e-01,  1.58947915e+00,  3.86694596e-01,\n",
              "         2.33967612e-02,  1.79560829e+00],\n",
              "       [ 4.66713812e-01,  8.00000000e-01, -6.40593614e-01,\n",
              "        -5.17726991e-01,  1.61804101e+00,  3.86694596e-01,\n",
              "         2.70447819e+00,  2.00431806e+00],\n",
              "       [ 4.66713812e-01,  8.00000000e-01,  2.38990694e+00,\n",
              "         1.93151993e+00, -5.52660390e-01, -2.58602011e+00,\n",
              "        -1.34812943e+00, -4.82245644e-01],\n",
              "       [ 4.66713812e-01,  8.00000000e-01,  3.69573239e-01,\n",
              "        -5.17726991e-01, -1.35239248e+00,  3.86694596e-01,\n",
              "        -6.48334347e-01, -7.77232093e-01]])"
            ]
          },
          "execution_count": 56,
          "metadata": {},
          "output_type": "execute_result"
        }
      ],
      "source": [
        "X_test"
      ]
    }
  ],
  "metadata": {
    "kernelspec": {
      "display_name": "Python 3 (ipykernel)",
      "language": "python",
      "name": "python3"
    },
    "language_info": {
      "codemirror_mode": {
        "name": "ipython",
        "version": 3
      },
      "file_extension": ".py",
      "mimetype": "text/x-python",
      "name": "python",
      "nbconvert_exporter": "python",
      "pygments_lexer": "ipython3",
      "version": "3.12.2"
    },
    "vscode": {
      "interpreter": {
        "hash": "9ba410bc5b297c41942d0f23bd30a3f98c8d0ce10a2b1477471cb9f64ae06750"
      }
    },
    "colab": {
      "provenance": []
    }
  },
  "nbformat": 4,
  "nbformat_minor": 5
}